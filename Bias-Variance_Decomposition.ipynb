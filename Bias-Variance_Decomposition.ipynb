{
  "cells": [
    {
      "cell_type": "markdown",
      "metadata": {
        "id": "KeW8Xh27MQTe"
      },
      "source": [
        "# CSC311 Lab 7: Bias-Variance Decomposition\n",
        "\n",
        "In prior labs we've looked at errors made by our classifiers, and considered the\n",
        "way these mistakes might impact groups we care about in our data. In this lab,\n",
        "we will explore more to understand these errors with respect to models that\n",
        "have been seen previously, and assess how changes in hyperparameters in our\n",
        "models can affect these errors. We will continue to use the NHANES dataset.\n",
        "\n",
        "Two major sources of error that we can, in theory, work to control\n",
        "are **bias** and **variance**. As you learned in class, bias occurs\n",
        "when our predictions reflect underlying assumptions about our model,\n",
        "regardless of the training data. For example, if we are making predictions\n",
        "using a linear regression model, we must assume linearity between our input\n",
        "features and our target. But relationships between features and targets\n",
        "are often far from linear. This means that if our model is constrained\n",
        "to make linear predictions when true relationships between features and\n",
        "targets are non-linear, our predictions will be biased in favour of our\n",
        "modelling assumptions.\n",
        "\n",
        "On the other hand, it might be the case that we train a model that very\n",
        "accurately captures the relationship between our features and target\n",
        "in a small set of training data. While this might seem desirable, if\n",
        "our training data does not reflect our test data, our model may not\n",
        "reflect relationships between the features and target in test data.\n",
        "This source of error is due the fact that we have tailored our model\n",
        "to capture relationships in a small, but non-representative, set of\n",
        "data. If we have this kind of a variance issue, our model may end up\n",
        "being very sensitive to small fluctuations in the training set that we\n",
        "choose.\n",
        "\n",
        "Ideally, we want to reduce **both** sources of error. If we manage to\n",
        "reduce both, then we can build more accurate models. But how do we\n",
        "diagnose bias and variance issues in the first place?  And what should\n",
        "we do about the issues? And how can we be sure that our \"fixes\"\n",
        "mitigate the risks that might be associated with our model's use?\n",
        "\n",
        "By the end of this lab you will be able to:\n",
        "\n",
        "1. How to assess bias and variance in errors in a synthetic regression and\n",
        "   real-world classification example;\n",
        "2. How bias and variance can be related to model complexity;\n",
        "3. How bias and variance can be related to choices of features;\n",
        "4. Some of the limitations to analyses of bias and variance, in particular as related to risk.\n",
        "\n",
        "Please work in groups of 1-2 during the lab.\n",
        "\n",
        "Acknowledgements:\n",
        "\n",
        "- Thanks to https://www.kaggle.com/code/tobyanderson/health-survey-analysis for some utilities to decode NHANES categories!  \n",
        "- This lab was created in collaboration with, Prof. Sonya Allin, Mustafa Haiderbhai, Carolyn Quinlan and others.\n",
        "\n",
        "## Submission\n",
        "\n",
        "If you are working with a partner, start by creating a group on Markus. If you are working alone,\n",
        "click \"Working Alone\".\n",
        "\n",
        "Submit the ipynb file `lab07.ipynb` on Markus\n",
        "**containing all your solutions to the Graded Tasks**.\n",
        "Your notebook file must contain your code **and outputs** where applicable,\n",
        "including printed lines and images.\n",
        "Your TA will not run your code for the purpose of grading.\n",
        "\n",
        "For this lab, you should submit the following:\n",
        "\n",
        "- Part 1. Your explanation of how the bias and variance of the polynomial regression model changes depending on the choice of $M$. (1 point)\n",
        "- Part 1. Your explanation of how the bias and variance of the polynomial regression model changes depending on the size of the training set.  (1 point)\n",
        "- Part 2. Your implementation of the `estimate_variance` function (3 points)\n",
        "- Part 2. Your explanation of how the parameter `C` relates to $\\lambda$ in the  `LogisticRegression` classifier (1 point)\n",
        "- Part 3. Your implementation of the `model_averaging` function. (3 points)\n",
        "- Part 3. Your explanation of how the number of trees affect the variance of the random forest classifier (1 point)\n",
        "\n",
        "\n",
        "## Google Colab Setup\n",
        "\n",
        "As before, we will import `matplotlib`, `numpy`, and `pandas` for plotting, linear algebra manipulations, and manipulating tabular data."
      ]
    },
    {
      "cell_type": "code",
      "execution_count": 2,
      "metadata": {
        "id": "4PmVo5t9MQTf"
      },
      "outputs": [],
      "source": [
        "import matplotlib.pyplot as plt # For plotting\n",
        "import numpy as np              # Linear algebra library\n",
        "import pandas as pd             # For manipulating tabular data\n",
        "import random                   # for random number generation"
      ]
    },
    {
      "cell_type": "markdown",
      "metadata": {
        "id": "YlWVvwaDMQTf"
      },
      "source": [
        "## Part 1. Synthetic Data Demonstration\n",
        "\n",
        "In this section, we will study bias and variance in some synthetic data\n",
        "so that we can control the way that data is generated, so the data generation\n",
        "distribution is known. We will reconstruct some of the figures that were\n",
        "sketched in lecture 6, and reason numerically about the mathematics of the\n",
        "bias-variance decomposition discussed at the end of the lecture.\n",
        "Just like in lecture 6, we will use linear regression with a polynomial feature\n",
        "mapping, and reason about how the degree of the polynomial $M$ affects the\n",
        "various sources of error.\n",
        "\n",
        "The first thing we will do is define the data generation distribution\n",
        "from which our data sets will be drawn.\n",
        "To make it easy to visualize our data, the data set will contain\n",
        "one input feature $x$, and there will be one target feature $t$."
      ]
    },
    {
      "cell_type": "code",
      "execution_count": 3,
      "metadata": {
        "colab": {
          "base_uri": "https://localhost:8080/",
          "height": 447
        },
        "id": "K483yILoMQTg",
        "outputId": "40de6aa9-9491-454e-9ca2-bb5581e04d7a"
      },
      "outputs": [
        {
          "output_type": "execute_result",
          "data": {
            "text/plain": [
              "[<matplotlib.lines.Line2D at 0x79bbc66e5050>]"
            ]
          },
          "metadata": {},
          "execution_count": 3
        },
        {
          "output_type": "display_data",
          "data": {
            "text/plain": [
              "<Figure size 640x480 with 1 Axes>"
            ],
            "image/png": "[encoded data removed]"
          },
          "metadata": {}
        }
      ],
      "source": [
        "def get_gt(x, noise=True):\n",
        "    \"\"\"\n",
        "    Obtain the ground truth value t for an input feature with value x.\n",
        "    Note that there is some noise in t, unless excluded.\n",
        "\n",
        "    Parameters:\n",
        "        `x`     - a numpy array of input features\n",
        "                  the values should be between 0 and 100\n",
        "        `noise` - whether to include noise\n",
        "\n",
        "    Returns: The target `t` corresponding to each `x`. This is a np.array\n",
        "             with the same shape as `x`\n",
        "    \"\"\"\n",
        "    # the target is a polynomial function o the input data, plus noise\n",
        "    t = x**2 - 0.25 * x**2.3 + int(noise) * np.random.normal(0, 25, size=x.shape)\n",
        "    return t\n",
        "\n",
        "# generate input data that covers the range that we support: [0, 100]\n",
        "xs_all       = np.linspace(0,100,1000)\n",
        "ts_all       = get_gt(xs_all)\n",
        "ts_noiseless = get_gt(xs_all, noise=False)\n",
        "plt.plot(xs_all, ts_all, 'b.')      # data with noise\n",
        "plt.plot(xs_all, ts_noiseless, 'r') # data without noise"
      ]
    },
    {
      "cell_type": "markdown",
      "metadata": {
        "id": "ApoVeiEHMQTg"
      },
      "source": [
        "You can see that our data is obviously structured and it looks more or less like\n",
        "it follows a quadratic curve. But the structure may be a little hard to determine\n",
        "if we only have a few samples in hand, since the small number of samples\n",
        "may not accurately reflect data variation across the entire set.\n",
        "\n",
        "To illustrate, let's start with one more function that will sample a small\n",
        "number of data points (both input + output features):"
      ]
    },
    {
      "cell_type": "code",
      "execution_count": 4,
      "metadata": {
        "colab": {
          "base_uri": "https://localhost:8080/",
          "height": 447
        },
        "id": "c6NhnLFOMQTg",
        "outputId": "2105e52e-6584-4e7f-f5e1-176ebadfe0c3"
      },
      "outputs": [
        {
          "output_type": "execute_result",
          "data": {
            "text/plain": [
              "[<matplotlib.lines.Line2D at 0x79bbc447e990>]"
            ]
          },
          "metadata": {},
          "execution_count": 4
        },
        {
          "output_type": "display_data",
          "data": {
            "text/plain": [
              "<Figure size 640x480 with 1 Axes>"
            ],
            "image/png": "[encoded data removed]"
          },
          "metadata": {}
        }
      ],
      "source": [
        "def sample_data(size):\n",
        "    \"\"\"\n",
        "    Sample data points from our distribution.\n",
        "\n",
        "    Parameters:\n",
        "        `size`    - represents the np.array size of both the input and targets\n",
        "\n",
        "    Returns: A tuple `(xs, ts)`, both numpy arrays with shape provided by `size`\n",
        "    \"\"\"\n",
        "    xs = np.random.uniform(0, 100, size=size)\n",
        "    return xs, get_gt(xs)\n",
        "\n",
        "# generate a small number of input data, which may not reflect\n",
        "# the data variation across the entire dataset\n",
        "xs, ts  = sample_data(size=(10,))\n",
        "plt.plot(xs, ts, 'b.') # data with noise\n",
        "plt.plot(xs_all, ts_noiseless, 'r') # data without noise"
      ]
    },
    {
      "cell_type": "markdown",
      "metadata": {
        "id": "ve-JWjkUMQTg"
      },
      "source": [
        "Now, we will explore the sources of error when we learn a polynomial regression\n",
        "model from a data sample. First, we will use some `sklearn` functions to perform\n",
        "the feature mapping transformations.\n",
        "Here, `poly.fit_transform` performs the role of the feature mapping function\n",
        "$\\psi$ from the lecture slides."
      ]
    },
    {
      "cell_type": "code",
      "execution_count": 5,
      "metadata": {
        "colab": {
          "base_uri": "https://localhost:8080/"
        },
        "id": "xVbnN5cEMQTg",
        "outputId": "d523db6c-2b34-47c8-c43a-09861a8bdedc"
      },
      "outputs": [
        {
          "output_type": "stream",
          "name": "stdout",
          "text": [
            "(1000,)\n",
            "(1000, 3)\n",
            "[[1.00000000e+00 0.00000000e+00 0.00000000e+00]\n",
            " [1.00000000e+00 1.00100100e-01 1.00200300e-02]\n",
            " [1.00000000e+00 2.00200200e-01 4.00801202e-02]\n",
            " ...\n",
            " [1.00000000e+00 9.97997998e+01 9.96000004e+03]\n",
            " [1.00000000e+00 9.98998999e+01 9.97999000e+03]\n",
            " [1.00000000e+00 1.00000000e+02 1.00000000e+04]]\n"
          ]
        }
      ],
      "source": [
        "from sklearn.preprocessing import PolynomialFeatures\n",
        "\n",
        "M    = 2                     # the degree of our polynomial\n",
        "poly = PolynomialFeatures(M) # feature mapping fn\n",
        "\n",
        "xs_fets_all = poly.fit_transform(np.array(xs_all).reshape(-1, 1))\n",
        "print(xs_all.shape)      # should be (1000,)\n",
        "print(xs_fets_all.shape) # should be (1000, M+1)\n",
        "print(xs_fets_all)"
      ]
    },
    {
      "cell_type": "markdown",
      "metadata": {
        "id": "H6n2Yv6IMQTg"
      },
      "source": [
        "With the feature mapping in place, we can see what a polynomial model\n",
        "built on these data points look like below.\n",
        "The blue curve is the quadratic that we fitted to our samples.  The red curve is\n",
        "the true, noiseless distribution of targets.  We might not be that far off with our\n",
        "predictions, but you should be able to see that our predictions will vary quite\n",
        "a bit depending on *which* ten samples we happen to have used to inform our\n",
        "model."
      ]
    },
    {
      "cell_type": "code",
      "execution_count": 6,
      "metadata": {
        "colab": {
          "base_uri": "https://localhost:8080/",
          "height": 447
        },
        "id": "pwdNkUySMQTg",
        "outputId": "8d8cc37a-ab2c-4f1b-b4c7-2a417cc892a2"
      },
      "outputs": [
        {
          "output_type": "execute_result",
          "data": {
            "text/plain": [
              "<matplotlib.legend.Legend at 0x79bbbccd5650>"
            ]
          },
          "metadata": {},
          "execution_count": 6
        },
        {
          "output_type": "display_data",
          "data": {
            "text/plain": [
              "<Figure size 640x480 with 1 Axes>"
            ],
            "image/png": "[encoded data removed]"
          },
          "metadata": {}
        }
      ],
      "source": [
        "from sklearn.linear_model import LinearRegression\n",
        "\n",
        "# sample data points\n",
        "xs, ts = sample_data(size=(10,))\n",
        "xs_fets = poly.fit_transform(xs.reshape(-1, 1))\n",
        "\n",
        "# fit the polynomial regression model\n",
        "pm = LinearRegression().fit(xs_fets, ts)\n",
        "\n",
        "# plotting\n",
        "plt.scatter(xs, ts, color='b', marker='o', label='samples')\n",
        "plt.plot(xs_all, pm.predict(xs_fets_all), color='b', label='fitted') # fitted curve\n",
        "plt.plot(xs_all, ts_noiseless, 'r', label='true') # noiseless distribution of targets\n",
        "plt.legend(loc=\"lower right\")"
      ]
    },
    {
      "cell_type": "markdown",
      "metadata": {
        "id": "OxPzfVe8MQTg"
      },
      "source": [
        "Let's repeat this process several times to better understand how sensitive our models are to the data we select."
      ]
    },
    {
      "cell_type": "code",
      "execution_count": 7,
      "metadata": {
        "colab": {
          "base_uri": "https://localhost:8080/",
          "height": 447
        },
        "id": "SkYF9j_hMQTg",
        "outputId": "253fecdf-fbc0-424c-b6aa-5555ab473ac3"
      },
      "outputs": [
        {
          "output_type": "execute_result",
          "data": {
            "text/plain": [
              "<matplotlib.legend.Legend at 0x79bbbb5d7b50>"
            ]
          },
          "metadata": {},
          "execution_count": 7
        },
        {
          "output_type": "display_data",
          "data": {
            "text/plain": [
              "<Figure size 640x480 with 1 Axes>"
            ],
            "image/png": "[encoded data removed]"
          },
          "metadata": {}
        }
      ],
      "source": [
        "colors = ['m','g','b','c','m','y','k','y','g','b'] #different color for each model fit\n",
        "\n",
        "for i in range(0, 10):\n",
        "    # sample data points\n",
        "    xs, ts = sample_data(size=(10,))\n",
        "    xs_fets = poly.fit_transform(xs.reshape(-1, 1))\n",
        "    # fit the polynomial regression model\n",
        "    pm = LinearRegression()\n",
        "    pm.fit(xs_fets, ts)\n",
        "    # plot the result\n",
        "    plt.plot(xs_all, pm.predict(xs_fets_all), color=colors[i], label=f'model {i+1}')\n",
        "\n",
        "plt.plot(xs_all, ts_noiseless, 'r', label='true') #noiseless distribution of targets\n",
        "plt.legend(loc=\"lower center\")"
      ]
    },
    {
      "cell_type": "markdown",
      "metadata": {
        "id": "xBiVAz5GMQTg"
      },
      "source": [
        "This graph shows us that, while each model we have trained may fit the samples\n",
        "we selected, none reflect the true distribution of targets perfectly.  We attribute\n",
        "errors related to the sensitivity of our models to their training data to **variance**.\n",
        "The more error that is attributable to variance, the more our model has **overfit**\n",
        "our training data and the less we may expect its performance to generalize.\n",
        "\n",
        "In fact, during lecture, we derived the following decomposition:\n",
        "$$\\mathbb{E}[ (y - t)^2 | {\\bf x}] = (\\mathbb{E}[y_\\star - y | {\\bf x}])^2 + \\mathrm{Var}(y | {\\bf x})  + \\mathrm{Var}(t | {\\bf x})$$\n",
        "Where\n",
        "- $y_\\star = \\mathbb{E}[t | {\\bf x}]$ is the optimal prediction.\n",
        "- $\\mathbb{E}[ (y - t)^2 ]$ is the total error\n",
        "- $(\\mathbb{E}[y_\\star - y | {\\bf x}])^2$ is the bias\n",
        "- $\\mathrm{Var}(y | {\\bf x})$ is the variance\n",
        "- $\\mathrm{Var}(t | {\\bf x})$ is the irreducible error or Bayes error.\n",
        "\n",
        "Let us reconstruct this decomposition numerically. First, just like in class,\n",
        "we will fix a value of ${\\bf x}$ for our decomposition. This ${\\bf x}$ is the test\n",
        "sample that we would like to make predictions for. We will call this test sample\n",
        "`x0`.  This is an arbitrary choice, and you are welcome to change this value\n",
        "and re-run this demonstration!"
      ]
    },
    {
      "cell_type": "code",
      "execution_count": 8,
      "metadata": {
        "id": "aKJRoedHMQTg"
      },
      "outputs": [],
      "source": [
        "x0 = np.array([10]) # choose x = 10 as our test sample"
      ]
    },
    {
      "cell_type": "markdown",
      "metadata": {
        "id": "Rjl4glaNMQTh"
      },
      "source": [
        "Now, let's estimate the quantities $\\mathbb{E}[ (y - t)^2 ]$,\n",
        "$(\\mathbb{E}[y_\\star - y | {\\bf x}])^2$, $\\mathrm{Var}(y | {\\bf x})$, and\n",
        "$\\mathrm{Var}(t | {\\bf x})$ for our choice of ${\\bf x}$.\n",
        "\n",
        "To estimate these quantities, we will need to sample several different\n",
        "predictions $y$ for our choice of ${\\bf x}$. Thus, we will need to perform\n",
        "the sampling and model building noise several times---let's say ~1000---and\n",
        "then obtain a prediction for each of these models."
      ]
    },
    {
      "cell_type": "code",
      "execution_count": 9,
      "metadata": {
        "colab": {
          "base_uri": "https://localhost:8080/"
        },
        "id": "aEWZJbSkMQTh",
        "outputId": "85c6b825-0a09-4d88-d9a2-d4e722fdd998"
      },
      "outputs": [
        {
          "output_type": "stream",
          "name": "stdout",
          "text": [
            "[[ 4.56574961e+01]\n",
            " [-2.11392681e+01]\n",
            " [ 1.06670119e+01]\n",
            " [-5.15814226e+01]\n",
            " [ 6.72543542e+00]\n",
            " [-2.01855918e+02]\n",
            " [ 7.74419437e+01]\n",
            " [-1.63759678e+01]\n",
            " [-3.70121208e+01]\n",
            " [-7.84564231e+01]\n",
            " [ 4.06864687e+01]\n",
            " [ 5.76414577e+01]\n",
            " [ 6.62467616e+01]\n",
            " [ 5.12737478e+01]\n",
            " [-1.32517881e+02]\n",
            " [ 6.71271405e+01]\n",
            " [-3.14912727e+02]\n",
            " [-4.96728308e+01]\n",
            " [-9.02966880e+01]\n",
            " [ 7.36826353e+01]\n",
            " [ 5.78073499e+01]\n",
            " [-1.80318269e+02]\n",
            " [ 4.64448245e+01]\n",
            " [ 7.24866036e+01]\n",
            " [-9.73782621e+01]\n",
            " [-3.92308973e+01]\n",
            " [ 2.38949448e+01]\n",
            " [ 1.15885790e+02]\n",
            " [ 9.12141624e+00]\n",
            " [ 9.13066537e+00]\n",
            " [ 4.69041897e+01]\n",
            " [-9.47436402e+01]\n",
            " [-1.94545936e+02]\n",
            " [ 6.38969618e+01]\n",
            " [-1.12953794e+01]\n",
            " [ 3.74997450e+00]\n",
            " [-3.72087644e+02]\n",
            " [ 5.69387591e+01]\n",
            " [ 8.36970007e+01]\n",
            " [-1.33811466e+02]\n",
            " [-3.84132373e+01]\n",
            " [ 5.23827218e+00]\n",
            " [ 3.96565351e+00]\n",
            " [ 5.64593316e+01]\n",
            " [ 3.35205503e+01]\n",
            " [-3.55141312e+01]\n",
            " [-7.45551183e+00]\n",
            " [ 3.00541365e+01]\n",
            " [ 6.40393543e+01]\n",
            " [-1.37329762e+00]\n",
            " [-1.14023854e+02]\n",
            " [-1.56736457e+02]\n",
            " [ 3.77688240e+01]\n",
            " [ 8.25785778e+01]\n",
            " [ 4.57065039e+01]\n",
            " [ 8.52737620e+01]\n",
            " [ 4.24886467e+01]\n",
            " [-7.24148442e+00]\n",
            " [ 4.91010208e+01]\n",
            " [ 3.39134589e+01]\n",
            " [-7.61605059e+01]\n",
            " [ 5.46134507e+01]\n",
            " [ 1.48780529e+01]\n",
            " [ 7.22304727e+01]\n",
            " [ 1.00408336e+02]\n",
            " [-1.30566759e+02]\n",
            " [-5.03311209e+01]\n",
            " [ 3.61622608e+01]\n",
            " [ 7.69023240e+01]\n",
            " [-5.74277584e+01]\n",
            " [ 2.96855764e+01]\n",
            " [ 6.94018034e+01]\n",
            " [-6.00415071e+00]\n",
            " [ 6.52273971e+01]\n",
            " [ 4.37405773e+01]\n",
            " [ 9.51287290e+01]\n",
            " [ 6.63938197e+01]\n",
            " [ 9.41173883e+01]\n",
            " [-1.81553514e+02]\n",
            " [-4.37952324e+01]\n",
            " [ 3.90186636e+01]\n",
            " [ 6.30580468e+01]\n",
            " [ 2.69672617e+01]\n",
            " [ 5.75468627e+01]\n",
            " [ 8.40720484e+01]\n",
            " [ 5.65848291e+01]\n",
            " [ 7.49103606e+01]\n",
            " [-2.86376207e+01]\n",
            " [-6.69642219e+01]\n",
            " [ 1.07744858e+01]\n",
            " [ 5.34837379e+01]\n",
            " [ 5.18482635e+01]\n",
            " [ 7.84963068e+01]\n",
            " [ 5.02496899e+01]\n",
            " [ 9.09638211e+01]\n",
            " [ 9.03038503e+01]\n",
            " [ 7.35011528e+01]\n",
            " [ 1.55518417e+02]\n",
            " [ 7.28842051e+01]\n",
            " [ 8.08427445e+01]\n",
            " [ 1.15506301e+01]\n",
            " [-5.52039631e+01]\n",
            " [ 9.71555174e+01]\n",
            " [-7.44764124e+01]\n",
            " [-2.28513423e+02]\n",
            " [ 3.34882234e+01]\n",
            " [ 9.13338802e+01]\n",
            " [-2.85325811e+02]\n",
            " [ 5.54214614e+01]\n",
            " [-2.32202783e+02]\n",
            " [ 4.80294988e+01]\n",
            " [ 4.58962310e+00]\n",
            " [ 8.05460669e+01]\n",
            " [-1.06057573e+00]\n",
            " [ 1.03202169e+02]\n",
            " [-9.37603137e+01]\n",
            " [ 9.95006124e+01]\n",
            " [-6.11186246e+01]\n",
            " [-1.02923785e+02]\n",
            " [ 2.15215388e+01]\n",
            " [ 5.45701909e+01]\n",
            " [ 2.25837454e+01]\n",
            " [ 5.28423171e+01]\n",
            " [ 1.04783630e+02]\n",
            " [-3.44497572e+01]\n",
            " [ 4.00979537e+01]\n",
            " [ 2.85592143e+01]\n",
            " [-2.66415767e+01]\n",
            " [ 8.07995340e+01]\n",
            " [ 8.97525352e+01]\n",
            " [ 5.94038224e+01]\n",
            " [ 6.96679997e+01]\n",
            " [ 1.06258038e+02]\n",
            " [-3.54086257e+01]\n",
            " [ 2.75817109e+00]\n",
            " [ 6.08766938e+01]\n",
            " [ 2.36193586e+01]\n",
            " [ 6.66419179e+01]\n",
            " [ 1.46556609e+02]\n",
            " [ 6.32277100e+01]\n",
            " [ 9.95159291e+01]\n",
            " [ 8.69334250e+01]\n",
            " [ 6.17726294e+00]\n",
            " [-1.81486457e+01]\n",
            " [ 5.58633427e+01]\n",
            " [-9.88735106e+01]\n",
            " [ 4.92834857e+01]\n",
            " [ 1.73614625e+02]\n",
            " [ 1.19500713e+02]\n",
            " [ 5.85479773e+01]\n",
            " [-8.64345950e+01]\n",
            " [ 1.15186727e+01]\n",
            " [-3.79431403e+01]\n",
            " [ 6.58334719e+01]\n",
            " [-1.85463010e+02]\n",
            " [ 4.62605174e+01]\n",
            " [ 8.21549507e+01]\n",
            " [ 1.17041948e+02]\n",
            " [ 4.31600075e+01]\n",
            " [ 7.26374314e+01]\n",
            " [-2.38245684e+01]\n",
            " [-1.33291829e+02]\n",
            " [ 5.12974968e+01]\n",
            " [ 6.53848083e+01]\n",
            " [-2.94445861e+01]\n",
            " [-1.21838558e+02]\n",
            " [ 8.60561411e+01]\n",
            " [ 1.01258615e+02]\n",
            " [-3.50171575e+01]\n",
            " [ 1.24661985e+02]\n",
            " [ 9.53762623e+01]\n",
            " [ 2.47728576e+01]\n",
            " [-1.65325279e+02]\n",
            " [ 5.82127865e+01]\n",
            " [ 3.54905930e+01]\n",
            " [ 1.20823516e+00]\n",
            " [ 6.49694885e+01]\n",
            " [ 2.60095975e+01]\n",
            " [-1.57866707e+02]\n",
            " [-1.00787652e+01]\n",
            " [ 4.41372981e+01]\n",
            " [ 5.47484903e+01]\n",
            " [-8.05939682e+00]\n",
            " [ 4.05990712e+01]\n",
            " [ 4.67545935e+01]\n",
            " [ 4.19717437e+01]\n",
            " [-5.72419006e+01]\n",
            " [ 2.45519224e+01]\n",
            " [-7.24069619e+01]\n",
            " [ 8.76965261e+01]\n",
            " [ 8.50064247e+01]\n",
            " [ 7.37213402e+01]\n",
            " [-3.01113546e+01]\n",
            " [ 2.79589093e+01]\n",
            " [ 8.04310667e+01]\n",
            " [ 5.92499825e+01]\n",
            " [ 9.25561782e+01]\n",
            " [-5.08671686e+01]\n",
            " [ 5.48217358e+01]\n",
            " [-1.88004115e+01]\n",
            " [ 9.04946844e+01]\n",
            " [ 6.18035733e+00]\n",
            " [ 8.95759856e+01]\n",
            " [ 5.53865581e+01]\n",
            " [-3.99663432e+00]\n",
            " [ 7.72288975e+01]\n",
            " [ 6.54430521e+00]\n",
            " [ 8.42196984e+01]\n",
            " [ 2.71125482e+01]\n",
            " [ 6.53118560e+01]\n",
            " [-2.81415181e+01]\n",
            " [ 6.57145455e+01]\n",
            " [-3.29206540e+01]\n",
            " [-1.17729517e+02]\n",
            " [ 4.64156329e+01]\n",
            " [ 5.00391766e+01]\n",
            " [-2.61514279e+01]\n",
            " [ 3.02517792e+01]\n",
            " [ 1.04835642e+02]\n",
            " [-9.55578289e+01]\n",
            " [ 1.29528537e+02]\n",
            " [ 3.69622411e+01]\n",
            " [ 5.20742592e+01]\n",
            " [ 6.74049647e+01]\n",
            " [ 1.92735138e+01]\n",
            " [-2.85580982e+02]\n",
            " [-3.68227486e+01]\n",
            " [-8.29293027e+01]\n",
            " [-6.47857568e+01]\n",
            " [ 7.71916798e+01]\n",
            " [ 7.14890883e+01]\n",
            " [ 1.15199343e+01]\n",
            " [-1.54614108e+02]\n",
            " [ 1.23272695e+01]\n",
            " [ 9.83495802e+01]\n",
            " [ 3.84915181e+01]\n",
            " [ 5.05770608e+01]\n",
            " [ 2.17765758e+01]\n",
            " [-1.74362380e+02]\n",
            " [ 9.95737990e+01]\n",
            " [ 3.23630073e+01]\n",
            " [-3.02501716e+01]\n",
            " [ 4.48393958e+01]\n",
            " [ 9.33845624e+01]\n",
            " [-8.27547439e+01]\n",
            " [ 4.74402139e+01]\n",
            " [ 9.35421618e+00]\n",
            " [ 6.74204519e+01]\n",
            " [-1.34170641e+01]\n",
            " [ 6.04563021e+01]\n",
            " [ 5.32720894e+01]\n",
            " [ 8.46389278e+01]\n",
            " [ 4.12824403e+01]\n",
            " [ 9.63883861e+01]\n",
            " [-7.39212130e+01]\n",
            " [ 5.65631123e+01]\n",
            " [ 3.92813665e+01]\n",
            " [-4.00072716e+00]\n",
            " [ 3.65840119e+01]\n",
            " [ 5.90855078e+01]\n",
            " [-4.70806892e+01]\n",
            " [ 1.29516367e+01]\n",
            " [ 3.41479665e+01]\n",
            " [ 6.14349707e+01]\n",
            " [ 3.35634141e+01]\n",
            " [ 4.03604189e+01]\n",
            " [ 9.39601119e+01]\n",
            " [ 4.10703027e+01]\n",
            " [ 3.08423364e+01]\n",
            " [ 4.59654488e+01]\n",
            " [-6.25938988e+01]\n",
            " [ 2.25263950e+01]\n",
            " [ 4.34758560e+01]\n",
            " [ 6.60296982e+01]\n",
            " [ 4.78203786e+01]\n",
            " [ 7.88655202e+01]\n",
            " [ 1.46296984e+02]\n",
            " [ 3.36269346e+01]\n",
            " [ 2.58667557e+01]\n",
            " [ 9.24749326e+01]\n",
            " [ 1.03269837e+02]\n",
            " [ 7.13563127e+01]\n",
            " [-1.34364097e+02]\n",
            " [-1.17755798e+02]\n",
            " [ 6.02931853e+01]\n",
            " [-2.93970665e+02]\n",
            " [-1.12270528e+01]\n",
            " [ 9.46732897e+01]\n",
            " [ 8.94198143e+01]\n",
            " [-3.51231700e+01]\n",
            " [ 7.38630402e+01]\n",
            " [ 6.95517235e+01]\n",
            " [-2.04718781e+01]\n",
            " [-2.49250235e+01]\n",
            " [-1.20499799e+02]\n",
            " [ 4.90621267e+01]\n",
            " [ 8.18656631e+01]\n",
            " [-4.51640104e+01]\n",
            " [ 3.10997402e+01]\n",
            " [-2.13784523e+01]\n",
            " [ 5.85320892e+01]\n",
            " [-1.14728580e+02]\n",
            " [ 7.55179641e+01]\n",
            " [ 4.42670273e+01]\n",
            " [ 9.12269580e+01]\n",
            " [-1.92362980e+01]\n",
            " [ 1.49704637e+01]\n",
            " [ 9.34690648e+01]\n",
            " [ 3.15318466e+01]\n",
            " [ 2.25199383e+01]\n",
            " [-1.75396633e+02]\n",
            " [ 1.19147423e+02]\n",
            " [-5.22818307e+00]\n",
            " [ 8.38521998e+01]\n",
            " [ 9.80417681e+01]\n",
            " [ 6.14865739e+01]\n",
            " [ 9.96260339e+01]\n",
            " [ 3.34821464e+01]\n",
            " [ 1.02898507e+01]\n",
            " [ 9.81700789e+00]\n",
            " [-2.63114975e+02]\n",
            " [ 5.74765675e+01]\n",
            " [-3.34110046e+00]\n",
            " [ 1.20583874e+01]\n",
            " [ 9.34194750e+01]\n",
            " [ 3.82395361e+01]\n",
            " [-9.69536832e+01]\n",
            " [ 2.93385812e+01]\n",
            " [-1.84542852e+02]\n",
            " [ 4.80314631e+01]\n",
            " [-6.99664247e+01]\n",
            " [-1.58624623e+01]\n",
            " [-5.66445135e+01]\n",
            " [ 8.21481259e+01]\n",
            " [-1.02299930e+02]\n",
            " [ 1.02834057e+02]\n",
            " [ 4.58845281e+01]\n",
            " [ 6.60008420e+00]\n",
            " [ 9.38769684e+01]\n",
            " [ 2.58583011e+01]\n",
            " [ 3.05802298e+01]\n",
            " [ 2.00010490e+01]\n",
            " [ 5.01274344e+01]\n",
            " [-3.75329113e+01]\n",
            " [ 4.66080047e+01]\n",
            " [ 2.44382662e+01]\n",
            " [ 8.01192426e+01]\n",
            " [-4.33190951e+01]\n",
            " [-6.26511038e+01]\n",
            " [ 2.37906812e+01]\n",
            " [-8.17451752e+01]\n",
            " [ 6.69577967e+01]\n",
            " [ 4.31792053e+01]\n",
            " [ 8.26459199e+01]\n",
            " [-6.40033150e+01]\n",
            " [ 1.96522737e+01]\n",
            " [ 1.01973981e+01]\n",
            " [ 4.30435537e+01]\n",
            " [-6.38652720e+01]\n",
            " [ 1.50849609e+01]\n",
            " [ 1.98827956e+01]\n",
            " [ 7.71084543e+01]\n",
            " [ 3.79809620e+01]\n",
            " [-8.15721074e+01]\n",
            " [-1.43529782e+02]\n",
            " [ 6.64495461e+01]\n",
            " [-5.38031593e+01]\n",
            " [ 3.34741834e+00]\n",
            " [ 1.06302132e+02]\n",
            " [ 2.83189099e+01]\n",
            " [ 6.04320124e+01]\n",
            " [-6.68528240e+01]\n",
            " [ 4.21875606e+01]\n",
            " [ 4.23759485e+01]\n",
            " [ 4.57072866e+01]\n",
            " [-1.86869499e+02]\n",
            " [ 9.54966754e+00]\n",
            " [ 9.41028480e+01]\n",
            " [-9.52393543e+00]\n",
            " [ 6.68870268e+01]\n",
            " [-1.55123899e+02]\n",
            " [-1.12612295e+02]\n",
            " [ 3.02356805e+01]\n",
            " [ 8.17288754e+01]\n",
            " [ 4.69105683e+01]\n",
            " [ 8.89851448e+01]\n",
            " [ 6.39923683e+01]\n",
            " [ 4.01447614e+01]\n",
            " [ 3.82108479e+01]\n",
            " [ 7.91099175e+01]\n",
            " [ 3.45117176e+01]\n",
            " [ 1.19935047e+02]\n",
            " [ 1.22003959e+02]\n",
            " [-6.26045693e+01]\n",
            " [ 6.72195705e+01]\n",
            " [ 7.79639518e+01]\n",
            " [ 1.09852694e+02]\n",
            " [-1.06729713e+02]\n",
            " [ 9.87904273e+01]\n",
            " [ 7.59912204e+01]\n",
            " [ 6.11246220e+01]\n",
            " [ 3.60300181e+00]\n",
            " [ 9.54564817e+01]\n",
            " [ 4.39666924e+01]\n",
            " [-4.42904651e+01]\n",
            " [ 6.34995344e+01]\n",
            " [ 6.06636758e+01]\n",
            " [ 9.58975213e+01]\n",
            " [ 8.77765042e+01]\n",
            " [-4.83591860e+00]\n",
            " [ 5.04783551e+01]\n",
            " [ 8.51278048e+00]\n",
            " [ 7.21268646e+01]\n",
            " [-2.55006301e+01]\n",
            " [ 6.13931071e+01]\n",
            " [-1.94950128e+02]\n",
            " [ 5.03860849e+01]\n",
            " [ 6.45853822e+01]\n",
            " [ 7.54020489e+01]\n",
            " [-1.29665755e+02]\n",
            " [ 4.55427775e+01]\n",
            " [-1.27818418e+00]\n",
            " [-1.01259958e+02]\n",
            " [ 5.16846307e+01]\n",
            " [ 5.76030397e+01]\n",
            " [ 2.10768609e+01]\n",
            " [ 5.60085867e+01]\n",
            " [ 1.88998621e+00]\n",
            " [-1.31918747e+02]\n",
            " [-2.20340734e+01]\n",
            " [ 4.42504662e+01]\n",
            " [ 7.33396877e+01]\n",
            " [-1.30818963e+02]\n",
            " [-2.11205024e+01]\n",
            " [-3.49379690e+02]\n",
            " [ 4.56892204e+01]\n",
            " [-1.29936483e+02]\n",
            " [ 1.09739816e+02]\n",
            " [ 1.15040917e+00]\n",
            " [-3.45633304e+02]\n",
            " [-5.66739047e+00]\n",
            " [ 9.36630903e+01]\n",
            " [ 2.63686466e+01]\n",
            " [ 7.47160880e+01]\n",
            " [ 1.08918567e+02]\n",
            " [ 3.59398043e+01]\n",
            " [ 7.22153253e+01]\n",
            " [ 2.67283122e+01]\n",
            " [ 9.15317581e+01]\n",
            " [ 6.11304410e+01]\n",
            " [ 6.03044109e+01]\n",
            " [ 1.08113180e+01]\n",
            " [-8.57311970e+01]\n",
            " [ 5.16709678e+01]\n",
            " [ 5.65827386e+01]\n",
            " [ 8.86396736e+01]\n",
            " [-1.11998000e+02]\n",
            " [ 1.33536575e+02]\n",
            " [-1.94172506e+01]\n",
            " [ 9.52549602e-01]\n",
            " [ 6.14265683e+01]\n",
            " [ 4.07226068e+01]\n",
            " [ 5.69422985e+01]\n",
            " [ 1.28786815e+01]\n",
            " [ 4.12637367e+01]\n",
            " [-1.17237362e+02]\n",
            " [ 1.80856908e+01]\n",
            " [ 9.74762336e+01]\n",
            " [-7.53809761e+01]\n",
            " [-4.00652109e+02]\n",
            " [ 3.84474657e+01]\n",
            " [ 8.54594269e+01]\n",
            " [-1.94697508e+02]\n",
            " [ 1.16362047e+02]\n",
            " [ 7.22754166e+01]\n",
            " [ 5.36509744e+01]\n",
            " [ 6.88282116e+01]\n",
            " [ 1.16435235e+02]\n",
            " [ 3.92742638e+01]\n",
            " [ 1.31922379e+02]\n",
            " [ 6.68638667e+01]\n",
            " [ 5.69154830e+01]\n",
            " [-1.39255503e+02]\n",
            " [ 1.18376547e+01]\n",
            " [-2.84474897e+01]\n",
            " [ 1.09545001e+02]\n",
            " [ 3.24916187e+01]\n",
            " [ 4.21254182e+01]\n",
            " [ 1.10821688e+02]\n",
            " [-2.41587949e+01]\n",
            " [-5.36109074e+01]\n",
            " [ 8.28099652e+00]\n",
            " [ 5.53702989e+01]\n",
            " [ 3.33409046e+01]\n",
            " [-6.45201200e+01]\n",
            " [ 8.27896667e+01]\n",
            " [-3.14138454e+01]\n",
            " [ 6.70105821e+01]\n",
            " [-7.14700471e+01]\n",
            " [ 7.03784423e+01]\n",
            " [ 8.54115381e+01]\n",
            " [-6.90733937e+01]\n",
            " [ 5.41137548e+01]\n",
            " [-2.47002095e+01]\n",
            " [-1.20984833e+01]\n",
            " [-2.15021088e+02]\n",
            " [-1.47815401e+02]\n",
            " [ 6.67784464e+01]\n",
            " [ 2.72601390e+01]\n",
            " [ 6.83019473e+01]\n",
            " [ 8.67910286e+01]\n",
            " [ 3.82763740e+01]\n",
            " [ 3.45905277e+01]\n",
            " [-1.04537323e+02]\n",
            " [-4.75517168e+00]\n",
            " [ 7.37185514e+01]\n",
            " [ 3.78755515e+01]\n",
            " [ 6.67739722e+01]\n",
            " [-3.88515134e+01]\n",
            " [-9.96353351e-01]\n",
            " [-8.27221797e-01]\n",
            " [ 4.46463315e+01]\n",
            " [ 5.58482693e+01]\n",
            " [-4.12656832e+00]\n",
            " [-7.52800775e+01]\n",
            " [ 8.40821973e+01]\n",
            " [-3.79196709e+00]\n",
            " [-6.00149570e+01]\n",
            " [-6.16048294e+00]\n",
            " [ 7.18626796e+01]\n",
            " [ 4.98042035e+01]\n",
            " [ 7.70832188e+01]\n",
            " [ 5.88280108e+01]\n",
            " [ 8.11269847e+01]\n",
            " [-2.21871591e+01]\n",
            " [ 4.22609868e+01]\n",
            " [ 2.89618190e+01]\n",
            " [-3.31430632e+01]\n",
            " [ 8.00322120e+01]\n",
            " [ 1.01120147e+02]\n",
            " [ 9.13074032e+01]\n",
            " [ 8.04587441e+01]\n",
            " [-9.39099936e-01]\n",
            " [ 4.80713784e+01]\n",
            " [-9.98932236e+01]\n",
            " [ 6.40426581e+01]\n",
            " [ 6.16389651e+01]\n",
            " [-3.42796961e+01]\n",
            " [ 7.42227270e+01]\n",
            " [-1.90441250e+01]\n",
            " [ 7.01635208e+01]\n",
            " [-2.63764521e+01]\n",
            " [ 3.28810049e+00]\n",
            " [-6.68446879e+01]\n",
            " [-2.75142416e+01]\n",
            " [-2.20191873e+02]\n",
            " [-6.79668075e+01]\n",
            " [ 6.94243203e+00]\n",
            " [ 7.74325018e+01]\n",
            " [ 9.07405842e+01]\n",
            " [-1.41795855e+02]\n",
            " [ 6.91912348e+01]\n",
            " [-6.49244373e+01]\n",
            " [ 6.80162813e+00]\n",
            " [-1.71079181e+02]\n",
            " [ 2.26577507e+01]\n",
            " [ 1.36929755e+00]\n",
            " [-6.51429286e+01]\n",
            " [ 1.14898592e+01]\n",
            " [-1.83099101e+02]\n",
            " [ 6.46927570e+01]\n",
            " [-2.32529147e+01]\n",
            " [ 1.07569677e+02]\n",
            " [ 1.55370461e+01]\n",
            " [ 5.25525450e+01]\n",
            " [ 7.79674811e+01]\n",
            " [-6.34941927e+01]\n",
            " [ 5.90084046e+01]\n",
            " [ 1.75242293e+01]\n",
            " [ 5.33160654e+00]\n",
            " [ 4.22275809e+01]\n",
            " [ 7.01850648e+01]\n",
            " [ 1.10266478e+02]\n",
            " [ 1.07068588e+02]\n",
            " [ 5.64621663e+01]\n",
            " [ 2.86155118e+01]\n",
            " [-9.29753678e+01]\n",
            " [-1.91353107e+02]\n",
            " [ 7.70370697e+01]\n",
            " [ 1.21263276e+01]\n",
            " [ 6.19542249e+01]\n",
            " [ 5.11451973e+01]\n",
            " [ 8.63709202e+01]\n",
            " [ 6.75183935e+01]\n",
            " [-1.30011832e+02]\n",
            " [ 5.79497149e+01]\n",
            " [ 1.05223676e+02]\n",
            " [ 7.37606106e+01]\n",
            " [ 5.59333264e+01]\n",
            " [ 1.03339454e+02]\n",
            " [ 2.98136289e+01]\n",
            " [-4.62910483e+01]\n",
            " [ 3.33658157e+01]\n",
            " [ 3.14755074e+01]\n",
            " [ 1.23227358e+02]\n",
            " [ 1.54061849e+02]\n",
            " [ 1.15298530e+02]\n",
            " [ 4.73743203e+01]\n",
            " [ 1.59021588e+01]\n",
            " [ 1.16483971e+02]\n",
            " [-1.24709849e+02]\n",
            " [ 2.93728615e+01]\n",
            " [ 6.64445458e+01]\n",
            " [ 3.85485206e+01]\n",
            " [ 5.01267879e+01]\n",
            " [ 7.62044816e+01]\n",
            " [-4.51160419e+02]\n",
            " [ 1.14315587e+01]\n",
            " [-1.68549785e+02]\n",
            " [ 4.48870205e+01]\n",
            " [ 8.37345655e+01]\n",
            " [ 1.52091144e+02]\n",
            " [ 5.72706155e+01]\n",
            " [ 1.03836508e+02]\n",
            " [ 1.33533320e+02]\n",
            " [ 7.96736642e+01]\n",
            " [ 3.12441201e+01]\n",
            " [-3.70916492e+01]\n",
            " [ 9.49360461e+01]\n",
            " [ 3.68603553e+01]\n",
            " [ 8.86738015e+01]\n",
            " [-2.10308722e+00]\n",
            " [ 2.62391346e+01]\n",
            " [-3.21268311e+01]\n",
            " [-7.09159949e+01]\n",
            " [ 7.04425527e+01]\n",
            " [-2.44290256e+01]\n",
            " [-4.24207582e+01]\n",
            " [ 4.75393206e+01]\n",
            " [ 5.40047321e+01]\n",
            " [-8.57341955e+01]\n",
            " [ 5.09327778e+01]\n",
            " [-2.54412973e+01]\n",
            " [ 4.00207766e+01]\n",
            " [ 8.05615478e+01]\n",
            " [-7.61793106e+00]\n",
            " [ 6.15445495e+01]\n",
            " [ 9.89565270e+01]\n",
            " [ 2.75223785e+01]\n",
            " [ 5.56808070e+01]\n",
            " [ 3.97359446e+01]\n",
            " [-1.97882120e+01]\n",
            " [ 4.34804719e+01]\n",
            " [ 6.69960445e+01]\n",
            " [-1.03625893e+02]\n",
            " [ 4.69982642e+01]\n",
            " [ 2.60443589e+01]\n",
            " [-1.10892423e+02]\n",
            " [-6.15899015e+01]\n",
            " [-4.52515932e+01]\n",
            " [ 3.81645211e+00]\n",
            " [ 5.58908620e+01]\n",
            " [ 6.83477283e+01]\n",
            " [-2.37466588e+01]\n",
            " [-1.15083818e+02]\n",
            " [ 6.43803294e+01]\n",
            " [ 2.62219571e+01]\n",
            " [ 9.10797216e+01]\n",
            " [ 4.04742326e+01]\n",
            " [ 3.41985123e+01]\n",
            " [ 8.51560050e+01]\n",
            " [ 6.00829910e+01]\n",
            " [-1.25906375e+02]\n",
            " [-1.00586200e+02]\n",
            " [ 4.86251001e+01]\n",
            " [-7.10646986e-01]\n",
            " [ 9.04136876e+01]\n",
            " [-5.11530413e+01]\n",
            " [-8.14325188e+00]\n",
            " [-1.61695737e+02]\n",
            " [ 3.09062298e+01]\n",
            " [ 9.73721982e+01]\n",
            " [ 1.53018196e+01]\n",
            " [ 2.15503988e+01]\n",
            " [ 5.87154565e+01]\n",
            " [-4.53905210e+01]\n",
            " [ 8.36886959e+01]\n",
            " [ 7.70299918e+01]\n",
            " [ 8.43846947e+01]\n",
            " [ 4.95988622e+01]\n",
            " [ 7.32086710e+00]\n",
            " [ 8.03472587e+01]\n",
            " [ 4.39524508e+01]\n",
            " [-8.89631795e+00]\n",
            " [ 2.71305306e+01]\n",
            " [-5.93118097e+01]\n",
            " [ 5.64330887e+01]\n",
            " [ 6.80502589e+01]\n",
            " [-1.91868884e+01]\n",
            " [ 1.95831011e+01]\n",
            " [ 8.39511313e+01]\n",
            " [ 3.07723506e+01]\n",
            " [ 6.11438291e+01]\n",
            " [ 3.49743115e+01]\n",
            " [ 2.98097012e+01]\n",
            " [ 1.53677281e+01]\n",
            " [ 1.11045869e+02]\n",
            " [ 4.32492984e+01]\n",
            " [ 5.02774553e+01]\n",
            " [ 2.58888413e+01]\n",
            " [ 2.67350409e+01]\n",
            " [ 7.15116957e+01]\n",
            " [ 4.06042694e+01]\n",
            " [-2.24104040e+02]\n",
            " [ 6.91083016e+01]\n",
            " [ 4.70428236e+01]\n",
            " [ 1.74906981e+01]\n",
            " [-2.34513606e+02]\n",
            " [-1.70324729e+01]\n",
            " [-3.11809807e+01]\n",
            " [ 5.23796706e+01]\n",
            " [ 2.89781614e+01]\n",
            " [-2.05989328e+02]\n",
            " [ 6.43742782e+01]\n",
            " [-1.19444437e+02]\n",
            " [-9.77115716e+00]\n",
            " [-1.65212737e+00]\n",
            " [-4.12655566e+00]\n",
            " [ 6.53327175e+01]\n",
            " [ 6.26655009e+01]\n",
            " [ 1.37371516e+02]\n",
            " [-1.11015576e+02]\n",
            " [ 5.47313076e+00]\n",
            " [ 8.56048531e+01]\n",
            " [ 4.74902839e+01]\n",
            " [ 6.95572360e+01]\n",
            " [-4.55737204e+01]\n",
            " [ 8.78330836e+01]\n",
            " [-3.91513321e+01]\n",
            " [ 8.17617339e+01]\n",
            " [-3.63594362e+00]\n",
            " [-1.54208678e+02]\n",
            " [ 3.19421934e+01]\n",
            " [ 9.67707431e+01]\n",
            " [ 4.14011807e+01]\n",
            " [ 6.78849020e+01]\n",
            " [ 1.05076141e+02]\n",
            " [ 3.19337065e+01]\n",
            " [ 8.86827294e+01]\n",
            " [ 2.59316878e+01]\n",
            " [ 7.54365858e+01]\n",
            " [ 2.66757911e+01]\n",
            " [ 4.40795801e+01]\n",
            " [-7.88558309e+01]\n",
            " [ 5.81748297e+01]\n",
            " [ 9.50377394e+01]\n",
            " [ 4.84900187e+01]\n",
            " [-1.29939108e+02]\n",
            " [ 4.03592122e+01]\n",
            " [ 5.42131498e+01]\n",
            " [ 4.38754997e+01]\n",
            " [ 4.36107569e+01]\n",
            " [-2.31400612e+02]\n",
            " [ 1.09818099e+02]\n",
            " [ 4.75181837e+01]\n",
            " [ 3.42832237e+01]\n",
            " [ 8.62707053e+01]\n",
            " [-3.16190127e+01]\n",
            " [ 3.49675950e+01]\n",
            " [ 6.98269156e+01]\n",
            " [-9.02946478e+00]\n",
            " [-1.04272923e+02]\n",
            " [ 2.60840918e+01]\n",
            " [ 1.09011550e+02]\n",
            " [ 1.02598272e+02]\n",
            " [ 2.75316634e+01]\n",
            " [ 3.05407680e+01]\n",
            " [-4.47186274e+01]\n",
            " [ 1.01260129e+02]\n",
            " [ 2.49329639e+01]\n",
            " [ 8.21088277e+01]\n",
            " [-2.17738370e+02]\n",
            " [ 8.28662166e+01]\n",
            " [ 3.28615163e+00]\n",
            " [ 4.63696811e+01]\n",
            " [-1.85747518e+02]\n",
            " [ 3.22734330e+01]\n",
            " [ 5.66078143e+01]\n",
            " [ 5.41980837e+01]\n",
            " [ 7.58306970e+01]\n",
            " [ 5.97836051e+01]\n",
            " [ 2.98464026e+01]\n",
            " [-1.04600355e+02]\n",
            " [-5.49292393e+00]\n",
            " [ 1.09063886e+02]\n",
            " [-8.07254399e+01]\n",
            " [-3.11127678e+01]\n",
            " [ 7.12288903e+00]\n",
            " [ 1.34588002e+01]\n",
            " [-2.98337694e+01]\n",
            " [ 9.33164714e+01]\n",
            " [ 1.07076539e+01]\n",
            " [-8.33199278e+01]\n",
            " [ 4.78551280e+01]\n",
            " [ 4.62392060e+01]\n",
            " [ 1.23794037e+02]\n",
            " [ 5.04963268e+01]\n",
            " [-1.35134416e+00]\n",
            " [-2.17376097e+02]\n",
            " [ 6.56205605e+01]\n",
            " [ 1.68694284e+01]\n",
            " [ 2.65346376e+01]\n",
            " [ 8.10257888e+01]\n",
            " [ 4.74290173e+01]\n",
            " [-9.41910587e+01]\n",
            " [ 8.89984643e+01]\n",
            " [ 6.68994876e+01]\n",
            " [-2.60338080e+02]\n",
            " [ 6.36323339e+01]\n",
            " [ 2.08934993e+01]\n",
            " [-3.55942481e+01]\n",
            " [ 1.96683540e+01]\n",
            " [ 7.23849395e+01]\n",
            " [ 2.56276700e+01]\n",
            " [-1.61901654e+02]\n",
            " [ 9.75037404e+01]\n",
            " [ 5.93017333e+01]\n",
            " [ 3.85337447e+01]\n",
            " [ 1.12558487e+02]\n",
            " [ 9.55312444e+01]\n",
            " [ 9.36776311e+01]\n",
            " [-1.66398425e+02]\n",
            " [ 5.32129125e+01]\n",
            " [ 2.78318962e+01]\n",
            " [ 4.75374992e+01]\n",
            " [ 1.10727692e+02]\n",
            " [ 7.70370809e+01]\n",
            " [ 6.13126374e+01]\n",
            " [ 3.12669090e+01]\n",
            " [ 6.51547022e+01]\n",
            " [ 9.51952858e+01]\n",
            " [-2.86152782e+01]\n",
            " [ 1.15348412e+02]\n",
            " [ 3.69017082e+01]\n",
            " [ 3.49783826e+01]\n",
            " [ 1.55770454e+02]\n",
            " [ 7.08765581e+01]\n",
            " [-1.30529113e+02]\n",
            " [ 6.95137348e+01]\n",
            " [-4.77171339e+00]\n",
            " [ 6.59267707e+01]\n",
            " [ 5.12120624e+01]\n",
            " [-1.57723381e+01]\n",
            " [ 1.59584698e-01]\n",
            " [ 3.96994580e+01]\n",
            " [ 7.32433456e+01]\n",
            " [ 5.81776677e+01]\n",
            " [ 1.67126705e+01]\n",
            " [ 6.57220214e+01]\n",
            " [ 5.80988313e+01]\n",
            " [ 7.72342635e+01]\n",
            " [ 5.52522501e+01]\n",
            " [ 4.54387775e+01]\n",
            " [ 1.15112557e+02]\n",
            " [ 7.41272125e+01]\n",
            " [-1.11472233e+02]\n",
            " [ 6.49881841e+01]\n",
            " [ 3.31162606e+01]\n",
            " [ 1.71760650e+01]\n",
            " [ 7.49331601e+01]\n",
            " [-6.64858941e+01]\n",
            " [ 5.74565450e+01]\n",
            " [ 1.12500081e+02]\n",
            " [ 2.53609175e+01]\n",
            " [ 1.24290125e+02]\n",
            " [-7.17526579e+01]\n",
            " [ 2.19178669e+01]\n",
            " [-3.38657157e+01]\n",
            " [ 3.85646424e+01]\n",
            " [ 4.65360183e+01]\n",
            " [ 9.71955963e+01]\n",
            " [ 3.09850312e+01]\n",
            " [ 5.35951907e+01]\n",
            " [ 5.20854324e+01]\n",
            " [ 2.17684314e+01]\n",
            " [ 1.33068278e+01]\n",
            " [ 1.09809802e+02]\n",
            " [ 1.08358077e+02]\n",
            " [-1.66269905e+02]\n",
            " [ 1.69493906e+00]\n",
            " [ 6.54616303e+01]\n",
            " [ 3.33603366e+01]\n",
            " [-1.87818622e+02]\n",
            " [-1.38345290e+02]\n",
            " [ 5.04995765e+00]\n",
            " [ 8.26954430e+01]\n",
            " [ 8.54320363e+01]\n",
            " [ 8.86790691e+01]\n",
            " [ 5.69663846e+01]\n",
            " [ 3.80302961e+01]\n",
            " [ 4.94969719e+01]\n",
            " [ 8.77220719e+01]\n",
            " [ 5.01439534e+01]\n",
            " [-9.23594575e+00]\n",
            " [ 9.54957343e+01]\n",
            " [ 3.30558193e+01]\n",
            " [ 8.29928946e+01]\n",
            " [ 8.38157763e+01]\n",
            " [-2.00272416e+02]\n",
            " [-1.21208860e+02]\n",
            " [ 5.38281697e+01]\n",
            " [-4.76653984e+01]\n",
            " [ 9.08308944e+01]\n",
            " [ 9.19616882e+01]\n",
            " [-3.88778304e+01]\n",
            " [-1.02672180e+02]\n",
            " [ 6.11724082e+01]\n",
            " [ 1.32199810e+01]\n",
            " [ 5.46678155e+01]\n",
            " [-2.57587664e+02]\n",
            " [ 1.47146636e+01]\n",
            " [ 6.75493036e+01]\n",
            " [-8.09130633e+01]\n",
            " [ 8.94424481e+01]\n",
            " [ 8.12987778e+01]\n",
            " [ 2.78268758e+01]\n",
            " [ 6.98740250e+01]\n",
            " [ 7.30599765e+01]\n",
            " [ 4.93704727e+01]\n",
            " [ 6.45300779e+01]\n",
            " [ 1.48805673e+01]\n",
            " [ 1.03534353e+02]\n",
            " [ 6.97121831e+01]\n",
            " [ 6.44907425e+01]\n",
            " [ 1.00365532e+02]\n",
            " [ 8.30778415e+01]\n",
            " [-2.64288055e+01]\n",
            " [ 5.27234730e+01]\n",
            " [ 5.35839247e+01]\n",
            " [ 8.72797645e+01]\n",
            " [ 1.28342418e+02]\n",
            " [ 6.78127640e+01]\n",
            " [-1.55555733e+00]\n",
            " [ 6.91023021e+01]\n",
            " [ 7.04667451e+01]\n",
            " [-1.13680081e+02]\n",
            " [ 1.07499798e+02]\n",
            " [-4.65262682e+01]\n",
            " [ 3.54021141e+01]\n",
            " [-4.49393809e+01]\n",
            " [ 5.17678377e+01]\n",
            " [ 2.70927169e+01]\n",
            " [ 2.70527946e+01]\n",
            " [ 2.16291498e+00]\n",
            " [-1.89265513e+02]\n",
            " [ 9.65111576e+01]\n",
            " [-3.41315563e+01]\n",
            " [ 7.49740424e+01]\n",
            " [ 5.94244152e+01]\n",
            " [-2.97163471e+01]\n",
            " [ 6.32646269e+01]\n",
            " [ 5.92963178e+01]\n",
            " [ 4.47151126e+00]\n",
            " [-1.39133952e+02]\n",
            " [ 8.91287804e+01]\n",
            " [-1.56438315e+01]\n",
            " [-2.16596092e+02]\n",
            " [-4.75177378e+01]\n",
            " [-1.31336731e+02]\n",
            " [ 8.12519180e+01]\n",
            " [-4.89024134e+01]\n",
            " [-3.83016049e+01]\n",
            " [ 5.79633564e+01]\n",
            " [ 2.65044663e+01]\n",
            " [ 9.60114917e+01]\n",
            " [ 6.11543413e+01]\n",
            " [-5.24247932e+01]\n",
            " [ 3.72941322e+01]\n",
            " [ 2.74058250e+01]\n",
            " [ 3.31589501e+01]\n",
            " [ 5.52103304e+01]\n",
            " [-1.26959311e+02]\n",
            " [ 6.32517446e+01]\n",
            " [ 5.41076175e+01]\n",
            " [ 5.83076972e+01]\n",
            " [-1.92849900e+01]\n",
            " [ 3.22671065e+01]\n",
            " [-7.31743070e+01]\n",
            " [ 8.90025769e+01]\n",
            " [-2.43953941e+02]\n",
            " [ 7.68106446e+01]\n",
            " [ 5.37608364e+01]\n",
            " [ 1.09359203e+02]\n",
            " [-1.45930408e+02]\n",
            " [ 2.64539062e+01]\n",
            " [ 5.19120756e+00]\n",
            " [ 7.95354184e+01]\n",
            " [ 3.50496558e+01]\n",
            " [ 5.28434519e+01]\n",
            " [-1.28919598e+02]]\n"
          ]
        }
      ],
      "source": [
        "NUM_MODELS = 1000  # number of models we will build\n",
        "models = [LinearRegression() for i in range(NUM_MODELS)]\n",
        "ys = []\n",
        "\n",
        "for model in models:\n",
        "    xs, ts = sample_data(size=(10,))                 # sampling\n",
        "    xs_fets = poly.fit_transform(xs.reshape(-1, 1))  # feature mapping\n",
        "    model.fit(xs_fets, ts) # model fitting\n",
        "    # obtain a prediction:\n",
        "    y = model.predict(poly.fit_transform(x0.reshape(-1, 1)))\n",
        "    ys.append(y)\n",
        "ys = np.array(ys)\n",
        "\n",
        "print(ys) # print the predictions from the 1000 models"
      ]
    },
    {
      "cell_type": "markdown",
      "metadata": {
        "id": "ZaQon0KHMQTh"
      },
      "source": [
        "This is enough for us to estimate the **variance** of our model at `x0` using these\n",
        "estimates $y_i$s, where each $y_i$ is the prediction made from the $i$th\n",
        "model:"
      ]
    },
    {
      "cell_type": "code",
      "execution_count": 10,
      "metadata": {
        "colab": {
          "base_uri": "https://localhost:8080/"
        },
        "id": "HvGnFoujMQTh",
        "outputId": "995454cc-ff90-4605-ba6c-ecafcaa6f6f3"
      },
      "outputs": [
        {
          "output_type": "stream",
          "name": "stdout",
          "text": [
            "Variance: 6865.982139754249\n"
          ]
        }
      ],
      "source": [
        "print(\"Variance:\", np.var(ys))"
      ]
    },
    {
      "cell_type": "markdown",
      "metadata": {
        "id": "WCmaaIdvMQTh"
      },
      "source": [
        "Now, $y_\\star = \\mathbb{E}[t | {\\bf x}]$, the optimal prediction we\n",
        "can make, can be computed using our data generation distribution. (The\n",
        "benefit of using synthetic data is our ability to access values like this\n",
        "one.)\n",
        "Thus, we can also estimate the **bias** of our model at `x0`:"
      ]
    },
    {
      "cell_type": "code",
      "execution_count": 11,
      "metadata": {
        "colab": {
          "base_uri": "https://localhost:8080/"
        },
        "id": "AV6sapChMQTh",
        "outputId": "f4b68358-008e-4045-a53a-cd678e72dac3"
      },
      "outputs": [
        {
          "output_type": "stream",
          "name": "stdout",
          "text": [
            "Bias 1158.7785880603574\n"
          ]
        }
      ],
      "source": [
        "y_star = get_gt(x0, noise=False)\n",
        "print(\"Bias\", np.mean(ys - y_star) ** 2)"
      ]
    },
    {
      "cell_type": "markdown",
      "metadata": {
        "id": "ojFvpSX6MQTh"
      },
      "source": [
        "Finally, we can either estimate the Bayes error, or read it\n",
        "directly from the way `get_gt` is implemented.\n",
        "\n",
        "**Task**: What is the (theoretical) Bayes error, which we can\n",
        "read directly from the way `get_gt` is implemented? You might find it helpful\n",
        "to look up the parameters of the `np.random.normal` function."
      ]
    },
    {
      "cell_type": "code",
      "execution_count": 12,
      "metadata": {
        "id": "Vx2litDLMQTh"
      },
      "outputs": [],
      "source": [
        "# TODO"
      ]
    },
    {
      "cell_type": "markdown",
      "metadata": {
        "id": "duDkk6XaMQTh"
      },
      "source": [
        "We can also produce an empirical estimate by sampling a ground-truth\n",
        "value corresponding to `x0` some number of times. We will use the latter\n",
        "approach, since the sampled ground-truth values will be useful for computing\n",
        "the total error as well."
      ]
    },
    {
      "cell_type": "code",
      "execution_count": 13,
      "metadata": {
        "colab": {
          "base_uri": "https://localhost:8080/"
        },
        "id": "FMBQdilMMQTh",
        "outputId": "42128e8b-ec89-4f37-8c34-19d2a1a47e54"
      },
      "outputs": [
        {
          "output_type": "stream",
          "name": "stdout",
          "text": [
            "Bayes Error: 622.6044122600719\n",
            "SUM of bias + variance + bayes error: 8647.365140074678\n"
          ]
        }
      ],
      "source": [
        "ts_resample = get_gt(np.repeat(x0, NUM_MODELS)) # sample ts NUM_MODELs times\n",
        "print(\"Bayes Error:\", np.var(ts_resample)) # empirical estimate\n",
        "\n",
        "print(\"SUM of bias + variance + bayes error:\", np.var(ys) + np.mean(ys - y_star) ** 2 + np.var(ts_resample))"
      ]
    },
    {
      "cell_type": "markdown",
      "metadata": {
        "id": "NSAqKDcXMQTh"
      },
      "source": [
        "Now, let us estimate the total error, by comparing the predictions `ys`\n",
        "from above with the sampled ground-truth values `ts_resample`. This should\n",
        "be fairly close to the total above."
      ]
    },
    {
      "cell_type": "code",
      "execution_count": 14,
      "metadata": {
        "colab": {
          "base_uri": "https://localhost:8080/"
        },
        "id": "8fVtfh4PMQTh",
        "outputId": "45082c85-53b7-4b8b-a239-2ea98bfd3573"
      },
      "outputs": [
        {
          "output_type": "stream",
          "name": "stdout",
          "text": [
            "Total Error: 8665.961823553842\n"
          ]
        }
      ],
      "source": [
        "print(\"Total Error:\", np.mean((ys - ts_resample) ** 2))"
      ]
    },
    {
      "cell_type": "markdown",
      "metadata": {
        "id": "FMXDwttYMQTh"
      },
      "source": [
        "In case you would like experiment a bit (e.g., with different values of `x0`),\n",
        "here's the above code put in a single cell."
      ]
    },
    {
      "cell_type": "code",
      "execution_count": 15,
      "metadata": {
        "colab": {
          "base_uri": "https://localhost:8080/"
        },
        "id": "IHM8gfkHMQTh",
        "outputId": "20da3622-2de5-4bf2-e96e-9c73f24a54b4"
      },
      "outputs": [
        {
          "output_type": "stream",
          "name": "stdout",
          "text": [
            "Bias 1841.7601322703133\n",
            "Variance: 1847.582942726394\n",
            "Bayes Error: 622.9503561849773 (theoretical value: 625)\n",
            "SUM of bias + variance + bayes error: 4312.293431181684\n",
            "Total Error: 4366.59077317927\n"
          ]
        }
      ],
      "source": [
        "M = 2\n",
        "x0 = np.array([25])\n",
        "NUM_MODELS = 1000  # number of models we will build\n",
        "\n",
        "poly = PolynomialFeatures(M)\n",
        "models = [LinearRegression() for i in range(NUM_MODELS)]\n",
        "ys = []\n",
        "for model in models:\n",
        "    xs, ts = sample_data(size=(10,))                 # sampling\n",
        "    xs_fets = poly.fit_transform(xs.reshape(-1, 1))  # feature mapping\n",
        "    model.fit(xs_fets, ts) # model fitting\n",
        "    # obtain a prediction:\n",
        "    y = model.predict(poly.fit_transform(x0.reshape(-1, 1)))\n",
        "    ys.append(y)\n",
        "ys = np.array(ys)\n",
        "\n",
        "y_star = get_gt(x0, noise=False)\n",
        "ts_resample = get_gt(np.repeat(x0, NUM_MODELS)) # sample ts NUM_MODELs times\n",
        "\n",
        "\n",
        "print(\"Bias\", np.mean(ys - y_star) ** 2)\n",
        "print(\"Variance:\", np.var(ys))\n",
        "print(\"Bayes Error:\", np.var(ts_resample), f\"(theoretical value: {25**2})\")\n",
        "print(\"SUM of bias + variance + bayes error:\", np.var(ys) + np.mean(ys - y_star) ** 2 + np.var(ts_resample))\n",
        "print(\"Total Error:\", np.mean((ys - ts_resample) ** 2))"
      ]
    },
    {
      "cell_type": "markdown",
      "metadata": {
        "id": "quecnkEGMQTh"
      },
      "source": [
        "Let's see how bias and variance change as we change the complexity of our model.\n",
        "In this synthetic example, we will define complexity by the degree of the polynomial\n",
        "that we use to model our data.\n",
        "\n",
        "**Task**: Complete the code below to provide an\n",
        "empirical estimate of the bias, variance, Bayes error,\n",
        "and total error."
      ]
    },
    {
      "cell_type": "code",
      "execution_count": 16,
      "metadata": {
        "attributes": {
          "classes": [
            "python "
          ],
          "id": ""
        },
        "colab": {
          "base_uri": "https://localhost:8080/",
          "height": 450
        },
        "id": "PJeMJ19KMQTh",
        "outputId": "70c2b8dd-75d5-4c04-897c-fcf90e0e60c5"
      },
      "outputs": [
        {
          "output_type": "display_data",
          "data": {
            "text/plain": [
              "<Figure size 640x480 with 1 Axes>"
            ],
            "image/png": "[encoded data removed]"
          },
          "metadata": {}
        }
      ],
      "source": [
        "NUM_MODELS = 1000\n",
        "x0 = np.array([25])  # note: we could also average over a range of xsfor this analysis!\n",
        "degrees = [1, 2, 3, 4]\n",
        "\n",
        "bias, variance, bayes, total = [], [], [], []\n",
        "\n",
        "for M in degrees:\n",
        "    poly = PolynomialFeatures(M)\n",
        "    models = [LinearRegression() for i in range(NUM_MODELS)]\n",
        "    ts_resample = get_gt(np.repeat(x0, NUM_MODELS))\n",
        "\n",
        "    ys = []\n",
        "    for model in models:\n",
        "        xs, ts = sample_data(size=(10,))                 # sampling\n",
        "        xs_fets = poly.fit_transform(xs.reshape(-1, 1))  # feature mapping\n",
        "        model.fit(xs_fets, ts) # model fitting\n",
        "        # obtain a prediction:\n",
        "        y = model.predict(poly.fit_transform(x0.reshape(-1, 1)))\n",
        "        ys.append(y)\n",
        "    ys = np.array(ys)\n",
        "\n",
        "    y_star = get_gt(x0, noise=False)\n",
        "\n",
        "    # compute the bias, variance, bayes error, and total error for\n",
        "    # the current choice of max degree M\n",
        "    bias_value = (np.mean(ys) - y_star) ** 2\n",
        "    variance_value = np.var(ys)\n",
        "    bayes_value = np.var(ts_resample)\n",
        "    total_value = bias_value + variance_value + bayes_value\n",
        "\n",
        "    bias.append(bias_value)\n",
        "    variance.append(variance_value)\n",
        "    bayes.append(bayes_value)\n",
        "    total.append(total_value)\n",
        "\n",
        "plt.plot(degrees, bias, 'g', label='bias')\n",
        "plt.plot(degrees, variance, 'b', label='variance')\n",
        "plt.plot(degrees, bayes, 'y', label='bayes error')\n",
        "plt.plot(degrees, total, 'r', label='total error')\n",
        "plt.xlabel(\"Degree of polynomial\")\n",
        "plt.ylabel(\"Error\")\n",
        "plt.legend()\n",
        "plt.show()"
      ]
    },
    {
      "cell_type": "markdown",
      "metadata": {
        "id": "NJiRQDvKMQTh"
      },
      "source": [
        "**Graded Task**: Based on the figure above, explain how the bias\n",
        "and variance of the model changes depending on the choice of $M$."
      ]
    },
    {
      "cell_type": "code",
      "execution_count": null,
      "metadata": {
        "id": "nYamCRBYMQTh"
      },
      "outputs": [],
      "source": [
        "# As M increases, bias decreases because the model becomes more flexible and better fits the data, but variance increases due to higher sensitivity to training noise.\n",
        "# For small M (e.g., M=1,2), bias is high but variance is low, leading to underfitting.\n",
        "# For a moderate M (e.g., M=3), bias and variance are balanced, minimizing total error.\n",
        "# For large M (e.g., M=4), bias is very low but variance is high, causing overfitting and poor generalization.\n"
      ]
    },
    {
      "cell_type": "markdown",
      "metadata": {
        "id": "-PQR46NnMQTh"
      },
      "source": [
        "**Graded Task**: Note that our choice of the number of training\n",
        "samples to use to build each model affects the variance of the\n",
        "model as well! How do you think the variance of our models will\n",
        "change if we *increase* the number of training samples (e.g., from\n",
        "10 to 100 or even 1000)."
      ]
    },
    {
      "cell_type": "code",
      "execution_count": null,
      "metadata": {
        "id": "nrZ-9N-dMQTh"
      },
      "outputs": [],
      "source": [
        "# Increasing the number of training samples reduces the variance of the model because it learns from a more representative dataset, making it less sensitive to fluctuations in individual samples. With fewer samples (e.g., 10), variance is high as the model overfits specific data points.\n",
        "# As the sample size grows (e.g., 100 or 1000), variance decreases, leading to more stable and generalized predictions. However, bias remains unchanged, as it depends on model complexity rather than the amount of data."
      ]
    },
    {
      "cell_type": "markdown",
      "metadata": {
        "id": "Luz0tIOPMQTi"
      },
      "source": [
        "People often assume that, as a rule, bias falls and variance increases as model complexity increases.\n",
        "This can lead to accuracy profiles that are shaped like a \"U\". In the case above, a \"U\" shape\n",
        "is somewhat clear.  However, \"U\" shaped error profiles are not always a given!! Empirical results\n",
        "with neural networks, in fact, show that errors may keep decreasing as networks, and the parameters\n",
        "associated with them, become wide. This suggests that there might not be a bias-variance tradeoff\n",
        "in neural networks with respect to network width, unlike was originally claimed by\n",
        "[important authors in the ML space](https://www.dam.brown.edu/people/documents/bias-variance.pdf).\n",
        "\n",
        "If you are interested in learning more about this topic,\n",
        "we suggest you look at this recent paper by [Neal et. al](https://arxiv.org/abs/1810.08591).\n",
        "\n",
        "## Part 2. Using real data to examine Bias and Variance\n",
        "\n",
        "Now let's continue our bias/variance analysis on real data that we have seen in the past,\n",
        "and using some of the models that we have learned thus far.\n",
        "As before we will be focusing on NHANES survey data relevant to the assessment of heart disease.\n",
        "We again refer you to the [NHANES data dictionary](https://wwwn.cdc.gov/nchs/nhanes/continuousnhanes/default.aspx)\n",
        "to better understand the data. We will not repeat the exploratory data analysis from lab 2,\n",
        "but encourage you to review the data definition and key summary.\n",
        "\n",
        "- `gender` (RIAGENDR): which is binary 2=female, 1=male\n",
        "- `race_ethnicity` (RIDRETH3): which can be 1=mexican american, 2=other hispanic, 3=white, 4=black, 6=asian, ...\n",
        "- `age` (RIDAGEYR): Age in years\n",
        "- `drink_alcohol` (ALQ101): which is binary; 1 indicates the individual reportedly drinks alcohol and 2 indicates they do not\n",
        "- `blood_cholesterol` (LBDTCSI): Results of an individual's blood cholesterol tests (mmol of cholesterol/L of blood)\n",
        "- `blood_pressure_sys` (BPXSY1): an individual's systolic blood pressure\n",
        "- `diastolic_bp` (BPXDI1): an individual's diastolic blood pressure\n",
        "- `calories` (DR1TKCAL): the number of calories an individual eats per day\n",
        "- `BMI` (BMXBMI): an individual's Body Mass Index (which can be used to assess obesity)\n",
        "- `chest_pain_ever` (CDQ001): If an individual has ever reported chest pain.\n",
        "- `family_income` (INDFMPIR): Ratio of a family's income to poverty threshold\n",
        "\n",
        "We will be using these features to predict the column `target_heart`:\n",
        "\n",
        "- `target_heart`: An individual reports that they have heart disease (1=yes, 0=no)."
      ]
    },
    {
      "cell_type": "code",
      "execution_count": 17,
      "metadata": {
        "colab": {
          "base_uri": "https://localhost:8080/"
        },
        "id": "IBASPlCvMQTi",
        "outputId": "37e94a70-be38-41df-af4a-dc11140d9135"
      },
      "outputs": [
        {
          "output_type": "stream",
          "name": "stdout",
          "text": [
            "--2025-03-01 19:51:12--  https://www.cs.toronto.edu/~lczhang/311/lab02/NHANES-heart.csv\n",
            "Resolving www.cs.toronto.edu (www.cs.toronto.edu)... 128.100.3.30\n",
            "Connecting to www.cs.toronto.edu (www.cs.toronto.edu)|128.100.3.30|:443... connected.\n",
            "HTTP request sent, awaiting response... 200 OK\n",
            "Length: 450659 (440K) [text/csv]\n",
            "Saving to: ‘NHANES-heart.csv’\n",
            "\n",
            "NHANES-heart.csv    100%[===================>] 440.10K  --.-KB/s    in 0.1s    \n",
            "\n",
            "2025-03-01 19:51:13 (3.66 MB/s) - ‘NHANES-heart.csv’ saved [450659/450659]\n",
            "\n"
          ]
        }
      ],
      "source": [
        "!wget https://www.cs.toronto.edu/~lczhang/311/lab02/NHANES-heart.csv"
      ]
    },
    {
      "cell_type": "code",
      "execution_count": 18,
      "metadata": {
        "colab": {
          "base_uri": "https://localhost:8080/",
          "height": 300
        },
        "id": "vRAJM5I1MQTi",
        "outputId": "2f22b3dc-0863-4e25-c5e7-4d049d11abef"
      },
      "outputs": [
        {
          "output_type": "execute_result",
          "data": {
            "text/plain": [
              "            gender  race_ethnicity  chest_pain_ever  drink_alcohol  \\\n",
              "count  8000.000000     8000.000000      8000.000000    8000.000000   \n",
              "mean      1.498375        3.222000         1.649125       1.304375   \n",
              "std       0.500029        1.330672         0.477274       0.460171   \n",
              "min       1.000000        1.000000         1.000000       1.000000   \n",
              "25%       1.000000        3.000000         1.000000       1.000000   \n",
              "50%       1.000000        3.000000         2.000000       1.000000   \n",
              "75%       2.000000        4.000000         2.000000       2.000000   \n",
              "max       2.000000        7.000000         2.000000       2.000000   \n",
              "\n",
              "               age          BMI    weight_kg  blood_pressure_sys  \\\n",
              "count  8000.000000  8000.000000  8000.000000         8000.000000   \n",
              "mean     62.627875    25.352687    61.112887          117.135500   \n",
              "std      12.225806     7.683466    32.803242           15.050115   \n",
              "min      40.000000    12.900000     3.300000           82.000000   \n",
              "25%      52.000000    19.700000    33.600000          108.000000   \n",
              "50%      63.000000    24.600000    63.700000          116.000000   \n",
              "75%      73.000000    29.500000    83.000000          122.000000   \n",
              "max      80.000000    82.900000   201.600000          220.000000   \n",
              "\n",
              "       diastolic_bp  blood_cholesterol     calories  family_income  \\\n",
              "count   8000.000000        8000.000000  8000.000000    8000.000000   \n",
              "mean      65.705000           4.584376  1866.986875       2.456017   \n",
              "std       11.610893           0.908403   867.494312       1.532800   \n",
              "min        0.000000           2.020000   171.000000       0.000000   \n",
              "25%       60.000000           4.090000  1337.750000       1.180000   \n",
              "50%       66.000000           4.500000  1735.000000       2.050000   \n",
              "75%       72.000000           4.970000  2215.250000       3.800000   \n",
              "max      116.000000          11.970000  8496.000000       5.000000   \n",
              "\n",
              "       target_heart  \n",
              "count   8000.000000  \n",
              "mean       0.500000  \n",
              "std        0.500031  \n",
              "min        0.000000  \n",
              "25%        0.000000  \n",
              "50%        0.500000  \n",
              "75%        1.000000  \n",
              "max        1.000000  "
            ],
            "text/html": [
              "\n",
              "  <div id=\"df-fc2d6ac1-c320-43b7-8461-a7d04d6c5884\" class=\"colab-df-container\">\n",
              "    <div>\n",
              "<style scoped>\n",
              "    .dataframe tbody tr th:only-of-type {\n",
              "        vertical-align: middle;\n",
              "    }\n",
              "\n",
              "    .dataframe tbody tr th {\n",
              "        vertical-align: top;\n",
              "    }\n",
              "\n",
              "    .dataframe thead th {\n",
              "        text-align: right;\n",
              "    }\n",
              "</style>\n",
              "<table border=\"1\" class=\"dataframe\">\n",
              "  <thead>\n",
              "    <tr style=\"text-align: right;\">\n",
              "      <th></th>\n",
              "      <th>gender</th>\n",
              "      <th>race_ethnicity</th>\n",
              "      <th>chest_pain_ever</th>\n",
              "      <th>drink_alcohol</th>\n",
              "      <th>age</th>\n",
              "      <th>BMI</th>\n",
              "      <th>weight_kg</th>\n",
              "      <th>blood_pressure_sys</th>\n",
              "      <th>diastolic_bp</th>\n",
              "      <th>blood_cholesterol</th>\n",
              "      <th>calories</th>\n",
              "      <th>family_income</th>\n",
              "      <th>target_heart</th>\n",
              "    </tr>\n",
              "  </thead>\n",
              "  <tbody>\n",
              "    <tr>\n",
              "      <th>count</th>\n",
              "      <td>8000.000000</td>\n",
              "      <td>8000.000000</td>\n",
              "      <td>8000.000000</td>\n",
              "      <td>8000.000000</td>\n",
              "      <td>8000.000000</td>\n",
              "      <td>8000.000000</td>\n",
              "      <td>8000.000000</td>\n",
              "      <td>8000.000000</td>\n",
              "      <td>8000.000000</td>\n",
              "      <td>8000.000000</td>\n",
              "      <td>8000.000000</td>\n",
              "      <td>8000.000000</td>\n",
              "      <td>8000.000000</td>\n",
              "    </tr>\n",
              "    <tr>\n",
              "      <th>mean</th>\n",
              "      <td>1.498375</td>\n",
              "      <td>3.222000</td>\n",
              "      <td>1.649125</td>\n",
              "      <td>1.304375</td>\n",
              "      <td>62.627875</td>\n",
              "      <td>25.352687</td>\n",
              "      <td>61.112887</td>\n",
              "      <td>117.135500</td>\n",
              "      <td>65.705000</td>\n",
              "      <td>4.584376</td>\n",
              "      <td>1866.986875</td>\n",
              "      <td>2.456017</td>\n",
              "      <td>0.500000</td>\n",
              "    </tr>\n",
              "    <tr>\n",
              "      <th>std</th>\n",
              "      <td>0.500029</td>\n",
              "      <td>1.330672</td>\n",
              "      <td>0.477274</td>\n",
              "      <td>0.460171</td>\n",
              "      <td>12.225806</td>\n",
              "      <td>7.683466</td>\n",
              "      <td>32.803242</td>\n",
              "      <td>15.050115</td>\n",
              "      <td>11.610893</td>\n",
              "      <td>0.908403</td>\n",
              "      <td>867.494312</td>\n",
              "      <td>1.532800</td>\n",
              "      <td>0.500031</td>\n",
              "    </tr>\n",
              "    <tr>\n",
              "      <th>min</th>\n",
              "      <td>1.000000</td>\n",
              "      <td>1.000000</td>\n",
              "      <td>1.000000</td>\n",
              "      <td>1.000000</td>\n",
              "      <td>40.000000</td>\n",
              "      <td>12.900000</td>\n",
              "      <td>3.300000</td>\n",
              "      <td>82.000000</td>\n",
              "      <td>0.000000</td>\n",
              "      <td>2.020000</td>\n",
              "      <td>171.000000</td>\n",
              "      <td>0.000000</td>\n",
              "      <td>0.000000</td>\n",
              "    </tr>\n",
              "    <tr>\n",
              "      <th>25%</th>\n",
              "      <td>1.000000</td>\n",
              "      <td>3.000000</td>\n",
              "      <td>1.000000</td>\n",
              "      <td>1.000000</td>\n",
              "      <td>52.000000</td>\n",
              "      <td>19.700000</td>\n",
              "      <td>33.600000</td>\n",
              "      <td>108.000000</td>\n",
              "      <td>60.000000</td>\n",
              "      <td>4.090000</td>\n",
              "      <td>1337.750000</td>\n",
              "      <td>1.180000</td>\n",
              "      <td>0.000000</td>\n",
              "    </tr>\n",
              "    <tr>\n",
              "      <th>50%</th>\n",
              "      <td>1.000000</td>\n",
              "      <td>3.000000</td>\n",
              "      <td>2.000000</td>\n",
              "      <td>1.000000</td>\n",
              "      <td>63.000000</td>\n",
              "      <td>24.600000</td>\n",
              "      <td>63.700000</td>\n",
              "      <td>116.000000</td>\n",
              "      <td>66.000000</td>\n",
              "      <td>4.500000</td>\n",
              "      <td>1735.000000</td>\n",
              "      <td>2.050000</td>\n",
              "      <td>0.500000</td>\n",
              "    </tr>\n",
              "    <tr>\n",
              "      <th>75%</th>\n",
              "      <td>2.000000</td>\n",
              "      <td>4.000000</td>\n",
              "      <td>2.000000</td>\n",
              "      <td>2.000000</td>\n",
              "      <td>73.000000</td>\n",
              "      <td>29.500000</td>\n",
              "      <td>83.000000</td>\n",
              "      <td>122.000000</td>\n",
              "      <td>72.000000</td>\n",
              "      <td>4.970000</td>\n",
              "      <td>2215.250000</td>\n",
              "      <td>3.800000</td>\n",
              "      <td>1.000000</td>\n",
              "    </tr>\n",
              "    <tr>\n",
              "      <th>max</th>\n",
              "      <td>2.000000</td>\n",
              "      <td>7.000000</td>\n",
              "      <td>2.000000</td>\n",
              "      <td>2.000000</td>\n",
              "      <td>80.000000</td>\n",
              "      <td>82.900000</td>\n",
              "      <td>201.600000</td>\n",
              "      <td>220.000000</td>\n",
              "      <td>116.000000</td>\n",
              "      <td>11.970000</td>\n",
              "      <td>8496.000000</td>\n",
              "      <td>5.000000</td>\n",
              "      <td>1.000000</td>\n",
              "    </tr>\n",
              "  </tbody>\n",
              "</table>\n",
              "</div>\n",
              "    <div class=\"colab-df-buttons\">\n",
              "\n",
              "  <div class=\"colab-df-container\">\n",
              "    <button class=\"colab-df-convert\" onclick=\"convertToInteractive('df-fc2d6ac1-c320-43b7-8461-a7d04d6c5884')\"\n",
              "            title=\"Convert this dataframe to an interactive table.\"\n",
              "            style=\"display:none;\">\n",
              "\n",
              "  <svg xmlns=\"http://www.w3.org/2000/svg\" height=\"24px\" viewBox=\"0 -960 960 960\">\n",
              "    <path d=\"M120-120v-720h720v720H120Zm60-500h600v-160H180v160Zm220 220h160v-160H400v160Zm0 220h160v-160H400v160ZM180-400h160v-160H180v160Zm440 0h160v-160H620v160ZM180-180h160v-160H180v160Zm440 0h160v-160H620v160Z\"/>\n",
              "  </svg>\n",
              "    </button>\n",
              "\n",
              "  <style>\n",
              "    .colab-df-container {\n",
              "      display:flex;\n",
              "      gap: 12px;\n",
              "    }\n",
              "\n",
              "    .colab-df-convert {\n",
              "      background-color: #E8F0FE;\n",
              "      border: none;\n",
              "      border-radius: 50%;\n",
              "      cursor: pointer;\n",
              "      display: none;\n",
              "      fill: #1967D2;\n",
              "      height: 32px;\n",
              "      padding: 0 0 0 0;\n",
              "      width: 32px;\n",
              "    }\n",
              "\n",
              "    .colab-df-convert:hover {\n",
              "      background-color: #E2EBFA;\n",
              "      box-shadow: 0px 1px 2px rgba(60, 64, 67, 0.3), 0px 1px 3px 1px rgba(60, 64, 67, 0.15);\n",
              "      fill: #174EA6;\n",
              "    }\n",
              "\n",
              "    .colab-df-buttons div {\n",
              "      margin-bottom: 4px;\n",
              "    }\n",
              "\n",
              "    [theme=dark] .colab-df-convert {\n",
              "      background-color: #3B4455;\n",
              "      fill: #D2E3FC;\n",
              "    }\n",
              "\n",
              "    [theme=dark] .colab-df-convert:hover {\n",
              "      background-color: #434B5C;\n",
              "      box-shadow: 0px 1px 3px 1px rgba(0, 0, 0, 0.15);\n",
              "      filter: drop-shadow(0px 1px 2px rgba(0, 0, 0, 0.3));\n",
              "      fill: #FFFFFF;\n",
              "    }\n",
              "  </style>\n",
              "\n",
              "    <script>\n",
              "      const buttonEl =\n",
              "        document.querySelector('#df-fc2d6ac1-c320-43b7-8461-a7d04d6c5884 button.colab-df-convert');\n",
              "      buttonEl.style.display =\n",
              "        google.colab.kernel.accessAllowed ? 'block' : 'none';\n",
              "\n",
              "      async function convertToInteractive(key) {\n",
              "        const element = document.querySelector('#df-fc2d6ac1-c320-43b7-8461-a7d04d6c5884');\n",
              "        const dataTable =\n",
              "          await google.colab.kernel.invokeFunction('convertToInteractive',\n",
              "                                                    [key], {});\n",
              "        if (!dataTable) return;\n",
              "\n",
              "        const docLinkHtml = 'Like what you see? Visit the ' +\n",
              "          '<a target=\"_blank\" href=https://colab.research.google.com/notebooks/data_table.ipynb>data table notebook</a>'\n",
              "          + ' to learn more about interactive tables.';\n",
              "        element.innerHTML = '';\n",
              "        dataTable['output_type'] = 'display_data';\n",
              "        await google.colab.output.renderOutput(dataTable, element);\n",
              "        const docLink = document.createElement('div');\n",
              "        docLink.innerHTML = docLinkHtml;\n",
              "        element.appendChild(docLink);\n",
              "      }\n",
              "    </script>\n",
              "  </div>\n",
              "\n",
              "\n",
              "<div id=\"df-f9bc9f3e-0a7d-46f5-91a8-00f39ff72d88\">\n",
              "  <button class=\"colab-df-quickchart\" onclick=\"quickchart('df-f9bc9f3e-0a7d-46f5-91a8-00f39ff72d88')\"\n",
              "            title=\"Suggest charts\"\n",
              "            style=\"display:none;\">\n",
              "\n",
              "<svg xmlns=\"http://www.w3.org/2000/svg\" height=\"24px\"viewBox=\"0 0 24 24\"\n",
              "     width=\"24px\">\n",
              "    <g>\n",
              "        <path d=\"M19 3H5c-1.1 0-2 .9-2 2v14c0 1.1.9 2 2 2h14c1.1 0 2-.9 2-2V5c0-1.1-.9-2-2-2zM9 17H7v-7h2v7zm4 0h-2V7h2v10zm4 0h-2v-4h2v4z\"/>\n",
              "    </g>\n",
              "</svg>\n",
              "  </button>\n",
              "\n",
              "<style>\n",
              "  .colab-df-quickchart {\n",
              "      --bg-color: #E8F0FE;\n",
              "      --fill-color: #1967D2;\n",
              "      --hover-bg-color: #E2EBFA;\n",
              "      --hover-fill-color: #174EA6;\n",
              "      --disabled-fill-color: #AAA;\n",
              "      --disabled-bg-color: #DDD;\n",
              "  }\n",
              "\n",
              "  [theme=dark] .colab-df-quickchart {\n",
              "      --bg-color: #3B4455;\n",
              "      --fill-color: #D2E3FC;\n",
              "      --hover-bg-color: #434B5C;\n",
              "      --hover-fill-color: #FFFFFF;\n",
              "      --disabled-bg-color: #3B4455;\n",
              "      --disabled-fill-color: #666;\n",
              "  }\n",
              "\n",
              "  .colab-df-quickchart {\n",
              "    background-color: var(--bg-color);\n",
              "    border: none;\n",
              "    border-radius: 50%;\n",
              "    cursor: pointer;\n",
              "    display: none;\n",
              "    fill: var(--fill-color);\n",
              "    height: 32px;\n",
              "    padding: 0;\n",
              "    width: 32px;\n",
              "  }\n",
              "\n",
              "  .colab-df-quickchart:hover {\n",
              "    background-color: var(--hover-bg-color);\n",
              "    box-shadow: 0 1px 2px rgba(60, 64, 67, 0.3), 0 1px 3px 1px rgba(60, 64, 67, 0.15);\n",
              "    fill: var(--button-hover-fill-color);\n",
              "  }\n",
              "\n",
              "  .colab-df-quickchart-complete:disabled,\n",
              "  .colab-df-quickchart-complete:disabled:hover {\n",
              "    background-color: var(--disabled-bg-color);\n",
              "    fill: var(--disabled-fill-color);\n",
              "    box-shadow: none;\n",
              "  }\n",
              "\n",
              "  .colab-df-spinner {\n",
              "    border: 2px solid var(--fill-color);\n",
              "    border-color: transparent;\n",
              "    border-bottom-color: var(--fill-color);\n",
              "    animation:\n",
              "      spin 1s steps(1) infinite;\n",
              "  }\n",
              "\n",
              "  @keyframes spin {\n",
              "    0% {\n",
              "      border-color: transparent;\n",
              "      border-bottom-color: var(--fill-color);\n",
              "      border-left-color: var(--fill-color);\n",
              "    }\n",
              "    20% {\n",
              "      border-color: transparent;\n",
              "      border-left-color: var(--fill-color);\n",
              "      border-top-color: var(--fill-color);\n",
              "    }\n",
              "    30% {\n",
              "      border-color: transparent;\n",
              "      border-left-color: var(--fill-color);\n",
              "      border-top-color: var(--fill-color);\n",
              "      border-right-color: var(--fill-color);\n",
              "    }\n",
              "    40% {\n",
              "      border-color: transparent;\n",
              "      border-right-color: var(--fill-color);\n",
              "      border-top-color: var(--fill-color);\n",
              "    }\n",
              "    60% {\n",
              "      border-color: transparent;\n",
              "      border-right-color: var(--fill-color);\n",
              "    }\n",
              "    80% {\n",
              "      border-color: transparent;\n",
              "      border-right-color: var(--fill-color);\n",
              "      border-bottom-color: var(--fill-color);\n",
              "    }\n",
              "    90% {\n",
              "      border-color: transparent;\n",
              "      border-bottom-color: var(--fill-color);\n",
              "    }\n",
              "  }\n",
              "</style>\n",
              "\n",
              "  <script>\n",
              "    async function quickchart(key) {\n",
              "      const quickchartButtonEl =\n",
              "        document.querySelector('#' + key + ' button');\n",
              "      quickchartButtonEl.disabled = true;  // To prevent multiple clicks.\n",
              "      quickchartButtonEl.classList.add('colab-df-spinner');\n",
              "      try {\n",
              "        const charts = await google.colab.kernel.invokeFunction(\n",
              "            'suggestCharts', [key], {});\n",
              "      } catch (error) {\n",
              "        console.error('Error during call to suggestCharts:', error);\n",
              "      }\n",
              "      quickchartButtonEl.classList.remove('colab-df-spinner');\n",
              "      quickchartButtonEl.classList.add('colab-df-quickchart-complete');\n",
              "    }\n",
              "    (() => {\n",
              "      let quickchartButtonEl =\n",
              "        document.querySelector('#df-f9bc9f3e-0a7d-46f5-91a8-00f39ff72d88 button');\n",
              "      quickchartButtonEl.style.display =\n",
              "        google.colab.kernel.accessAllowed ? 'block' : 'none';\n",
              "    })();\n",
              "  </script>\n",
              "</div>\n",
              "\n",
              "    </div>\n",
              "  </div>\n"
            ],
            "application/vnd.google.colaboratory.intrinsic+json": {
              "type": "dataframe",
              "summary": "{\n  \"name\": \"data\",\n  \"rows\": 8,\n  \"fields\": [\n    {\n      \"column\": \"gender\",\n      \"properties\": {\n        \"dtype\": \"number\",\n        \"std\": 2827.9726854238465,\n        \"min\": 0.5000286121329514,\n        \"max\": 8000.0,\n        \"num_unique_values\": 5,\n        \"samples\": [\n          1.498375,\n          2.0,\n          0.5000286121329514\n        ],\n        \"semantic_type\": \"\",\n        \"description\": \"\"\n      }\n    },\n    {\n      \"column\": \"race_ethnicity\",\n      \"properties\": {\n        \"dtype\": \"number\",\n        \"std\": 2827.288636297873,\n        \"min\": 1.0,\n        \"max\": 8000.0,\n        \"num_unique_values\": 7,\n        \"samples\": [\n          8000.0,\n          3.222,\n          4.0\n        ],\n        \"semantic_type\": \"\",\n        \"description\": \"\"\n      }\n    },\n    {\n      \"column\": \"chest_pain_ever\",\n      \"properties\": {\n        \"dtype\": \"number\",\n        \"std\": 2827.91572242477,\n        \"min\": 0.47727372455543154,\n        \"max\": 8000.0,\n        \"num_unique_values\": 5,\n        \"samples\": [\n          1.649125,\n          2.0,\n          0.47727372455543154\n        ],\n        \"semantic_type\": \"\",\n        \"description\": \"\"\n      }\n    },\n    {\n      \"column\": \"drink_alcohol\",\n      \"properties\": {\n        \"dtype\": \"number\",\n        \"std\": 2827.984497306394,\n        \"min\": 0.46017097805176493,\n        \"max\": 8000.0,\n        \"num_unique_values\": 5,\n        \"samples\": [\n          1.304375,\n          2.0,\n          0.46017097805176493\n        ],\n        \"semantic_type\": \"\",\n        \"description\": \"\"\n      }\n    },\n    {\n      \"column\": \"age\",\n      \"properties\": {\n        \"dtype\": \"number\",\n        \"std\": 2809.169786901361,\n        \"min\": 12.225805976533609,\n        \"max\": 8000.0,\n        \"num_unique_values\": 8,\n        \"samples\": [\n          62.627875,\n          63.0,\n          8000.0\n        ],\n        \"semantic_type\": \"\",\n        \"description\": \"\"\n      }\n    },\n    {\n      \"column\": \"BMI\",\n      \"properties\": {\n        \"dtype\": \"number\",\n        \"std\": 2818.2871984865915,\n        \"min\": 7.6834655093013104,\n        \"max\": 8000.0,\n        \"num_unique_values\": 8,\n        \"samples\": [\n          25.3526875,\n          24.6,\n          8000.0\n        ],\n        \"semantic_type\": \"\",\n        \"description\": \"\"\n      }\n    },\n    {\n      \"column\": \"weight_kg\",\n      \"properties\": {\n        \"dtype\": \"number\",\n        \"std\": 2804.8583780060617,\n        \"min\": 3.3,\n        \"max\": 8000.0,\n        \"num_unique_values\": 8,\n        \"samples\": [\n          61.1128875,\n          63.7,\n          8000.0\n        ],\n        \"semantic_type\": \"\",\n        \"description\": \"\"\n      }\n    },\n    {\n      \"column\": \"blood_pressure_sys\",\n      \"properties\": {\n        \"dtype\": \"number\",\n        \"std\": 2789.5882390136485,\n        \"min\": 15.050114716976,\n        \"max\": 8000.0,\n        \"num_unique_values\": 8,\n        \"samples\": [\n          117.1355,\n          116.0,\n          8000.0\n        ],\n        \"semantic_type\": \"\",\n        \"description\": \"\"\n      }\n    },\n    {\n      \"column\": \"diastolic_bp\",\n      \"properties\": {\n        \"dtype\": \"number\",\n        \"std\": 2808.8959488105297,\n        \"min\": 0.0,\n        \"max\": 8000.0,\n        \"num_unique_values\": 8,\n        \"samples\": [\n          65.705,\n          66.0,\n          8000.0\n        ],\n        \"semantic_type\": \"\",\n        \"description\": \"\"\n      }\n    },\n    {\n      \"column\": \"blood_cholesterol\",\n      \"properties\": {\n        \"dtype\": \"number\",\n        \"std\": 2826.7601051573447,\n        \"min\": 0.9084032890202964,\n        \"max\": 8000.0,\n        \"num_unique_values\": 8,\n        \"samples\": [\n          4.584376249999999,\n          4.5,\n          8000.0\n        ],\n        \"semantic_type\": \"\",\n        \"description\": \"\"\n      }\n    },\n    {\n      \"column\": \"calories\",\n      \"properties\": {\n        \"dtype\": \"number\",\n        \"std\": 3250.5003096128016,\n        \"min\": 171.0,\n        \"max\": 8496.0,\n        \"num_unique_values\": 8,\n        \"samples\": [\n          1866.986875,\n          1735.0,\n          8000.0\n        ],\n        \"semantic_type\": \"\",\n        \"description\": \"\"\n      }\n    },\n    {\n      \"column\": \"family_income\",\n      \"properties\": {\n        \"dtype\": \"number\",\n        \"std\": 2827.6184756108432,\n        \"min\": 0.0,\n        \"max\": 8000.0,\n        \"num_unique_values\": 8,\n        \"samples\": [\n          2.4560174999999997,\n          2.05,\n          8000.0\n        ],\n        \"semantic_type\": \"\",\n        \"description\": \"\"\n      }\n    },\n    {\n      \"column\": \"target_heart\",\n      \"properties\": {\n        \"dtype\": \"number\",\n        \"std\": 2828.250371727774,\n        \"min\": 0.0,\n        \"max\": 8000.0,\n        \"num_unique_values\": 5,\n        \"samples\": [\n          0.5,\n          1.0,\n          0.5000312529299927\n        ],\n        \"semantic_type\": \"\",\n        \"description\": \"\"\n      }\n    }\n  ]\n}"
            }
          },
          "metadata": {},
          "execution_count": 18
        }
      ],
      "source": [
        "# read a csv file as a *pandas data frame*\n",
        "data = pd.read_csv(\"NHANES-heart.csv\")\n",
        "\n",
        "# display a dataframe\n",
        "data.describe()"
      ]
    },
    {
      "cell_type": "markdown",
      "metadata": {
        "id": "SK74AVptMQTi"
      },
      "source": [
        "Like in lab 2 and 5, we will use indicator features for categorical values and add a bias parameter in our model."
      ]
    },
    {
      "cell_type": "code",
      "execution_count": 19,
      "metadata": {
        "colab": {
          "base_uri": "https://localhost:8080/"
        },
        "id": "nD8yirn9MQTi",
        "outputId": "acc167e5-4091-4d77-dde8-6544866f2086"
      },
      "outputs": [
        {
          "output_type": "stream",
          "name": "stdout",
          "text": [
            "(8000, 14)\n"
          ]
        }
      ],
      "source": [
        "feature_names = [\n",
        "    \"gender_female\",\n",
        "    \"re_hispanic\",\n",
        "    \"re_white\",\n",
        "    \"re_black\",\n",
        "    \"re_asian\",\n",
        "    \"chest_pain\",\n",
        "    \"drink_alcohol\",\n",
        "    \"age\",\n",
        "    \"blood_cholesterol\",\n",
        "    \"BMI\",\n",
        "    \"blood_pressure_sys\",\n",
        "    \"diastolic_bp\",\n",
        "    \"calories\",\n",
        "    \"family_income\"]\n",
        "\n",
        "data_fets = np.stack([\n",
        "    data[\"gender\"] == 2,\n",
        "    (data[\"race_ethnicity\"] == 1) + (data[\"race_ethnicity\"] == 2),\n",
        "    data[\"race_ethnicity\"] == 3,\n",
        "    data[\"race_ethnicity\"] == 4,\n",
        "    data[\"race_ethnicity\"] == 6,\n",
        "    data[\"chest_pain_ever\"] == 2,\n",
        "    data[\"drink_alcohol\"] == 2,\n",
        "    data[\"age\"],\n",
        "    data[\"blood_cholesterol\"],\n",
        "    data[\"BMI\"],\n",
        "    data[\"blood_pressure_sys\"],\n",
        "    data[\"diastolic_bp\"],\n",
        "    data[\"calories\"],\n",
        "    data[\"family_income\"]\n",
        "], axis=1)\n",
        "\n",
        "print(data_fets.shape) # Should be (8000, 14)"
      ]
    },
    {
      "cell_type": "markdown",
      "metadata": {
        "id": "kmq1XvQbMQTl"
      },
      "source": [
        "Like before, we can separate our data into training, validation, and test sets.\n",
        "We will use the same code as we did in lab 2. Just like in lab 2, we will\n",
        "normalize our data set since some of the classifiers we use will depend on it."
      ]
    },
    {
      "cell_type": "code",
      "execution_count": 20,
      "metadata": {
        "id": "wqociZLQMQTl"
      },
      "outputs": [],
      "source": [
        "from sklearn.model_selection import train_test_split\n",
        "\n",
        "# Split the data into X (dependent variables) and t (response variable)\n",
        "X = data_fets\n",
        "t = np.array(data[\"target_heart\"])\n",
        "\n",
        "# First, we will use `train_test_split` to split the data set into\n",
        "# 6500 training+validation, and 1500 test:\n",
        "X_tv, X_test, t_tv, t_test = train_test_split(X, t, test_size=1500/8000, random_state=1)\n",
        "\n",
        "# Then, use `train_test_split` to split the training+validation data\n",
        "# into 5000 train and 1500 validation\n",
        "X_train, X_valid, t_train, t_valid= train_test_split(X_tv, t_tv, test_size=1500/6500, random_state=1)\n",
        "\n",
        "# Normalization\n",
        "numerical_value_start = 7\n",
        "mean = X_train[:, numerical_value_start:].mean(axis=0)\n",
        "std = X_train[:, numerical_value_start:].std(axis=0)\n",
        "\n",
        "X_train_norm = X_train.copy()\n",
        "X_valid_norm = X_valid.copy()\n",
        "X_test_norm = X_test.copy()\n",
        "X_train_norm[:, numerical_value_start:] = (X_train[:, numerical_value_start:] - mean) / std\n",
        "X_valid_norm[:, numerical_value_start:] = (X_valid[:, numerical_value_start:] - mean) / std\n",
        "X_test_norm[:, numerical_value_start:] = (X_test[:, numerical_value_start:] - mean) / std"
      ]
    },
    {
      "cell_type": "markdown",
      "metadata": {
        "id": "PT4e1mVSMQTl"
      },
      "source": [
        "Now, we are ready to build some models to understand the various sources of error.\n",
        "We will work with these three classifiers, which we have previously experimented with."
      ]
    },
    {
      "cell_type": "code",
      "execution_count": 21,
      "metadata": {
        "id": "JJdmedj1MQTl"
      },
      "outputs": [],
      "source": [
        "from sklearn.linear_model import LogisticRegression\n",
        "from sklearn.neural_network import MLPClassifier\n",
        "from sklearn.tree import DecisionTreeClassifier"
      ]
    },
    {
      "cell_type": "markdown",
      "metadata": {
        "id": "6M5gxM6aMQTl"
      },
      "source": [
        "**Task**:\n",
        "Unlike with synthetic data, we will not be able to produce empirical estimates of\n",
        "the bias and the Bayes error. Why is that? Why is it that we *are* able to\n",
        "estimate the variance of our classifier?"
      ]
    },
    {
      "cell_type": "code",
      "execution_count": null,
      "metadata": {
        "id": "1x5iH5JxMQTl"
      },
      "outputs": [],
      "source": [
        "# TODO"
      ]
    },
    {
      "cell_type": "markdown",
      "metadata": {
        "id": "IzMYmGwQMQTl"
      },
      "source": [
        "**Graded Task**: Complete the function below, which fits a classifier several\n",
        "times, each time sampling a small training set (without replacement) from\n",
        "`X_train_norm`."
      ]
    },
    {
      "cell_type": "code",
      "execution_count": 22,
      "metadata": {
        "id": "YAjz7btlMQTl"
      },
      "outputs": [],
      "source": [
        "def estimate_variance(model, ntries=100, nsample=200):\n",
        "    \"\"\"\n",
        "    Estimate the variance of a classifier on the NHANES data set.\n",
        "\n",
        "    Parameters:\n",
        "        `model` - an sklearn model supporting the methods fit(),\n",
        "                  predict(), and score()\n",
        "        `ntries` - number of times to train the classifier to compute\n",
        "                   the classifier's variance.\n",
        "        `nsamples` - number of data points to sample to train each\n",
        "                     classifier\n",
        "\n",
        "    Returns: A tuple containing the average training error,\n",
        "             average validation error, and variance estimate.\n",
        "    \"\"\"\n",
        "    train_acc = []\n",
        "    val_acc = []\n",
        "    ys = []\n",
        "    for i in range(ntries):\n",
        "        subset = random.sample(range(5000), nsample)\n",
        "        model.fit(X_train_norm[subset], t_train[subset])\n",
        "        ys.append(model.predict(X_valid_norm))\n",
        "        train_acc.append(model.score(X_train_norm[subset], t_train[subset]))\n",
        "        val_acc.append(model.score(X_valid_norm, t_valid))\n",
        "    ys = np.stack(ys)\n",
        "    variances = np.var(ys, axis=0) # TODO: Compute the variance of each row of ys, i.e., for\n",
        "                     #       each validation data point separate. (Why? Why can't\n",
        "                     #       we compute the variance of the entire ys?)\n",
        "    train_error = 1 - np.mean(train_acc) # TODO: the average training error across the ntries models\n",
        "    val_error = 1 - np.mean(val_acc) # TODO: the average validation error across the ntries models\n",
        "    return train_error, val_error, variances.mean()"
      ]
    },
    {
      "cell_type": "markdown",
      "metadata": {
        "id": "sZgzRDXmMQTl"
      },
      "source": [
        "Now, we will use this function to see how the training error, validation error, and\n",
        "variance changes with our choice of hyper-parameters.\n",
        "\n",
        "**Graded Task**: The `LogisticRegression` classifier model has a parameter `C`.\n",
        "Read the sklearn API documentation and explain what this parameter `C` does, assuming\n",
        "that L2 regularization is used.\n",
        "How can we convert C to the regularization parameter $\\lambda$ from the lecture on regularization?\n",
        "Please provide a formula."
      ]
    },
    {
      "cell_type": "code",
      "execution_count": 24,
      "metadata": {
        "id": "tJ8sS2PaMQTl"
      },
      "outputs": [],
      "source": [
        "# λ = 1/C\n",
        "# the parameter C controls the strength of L2 regularization and is inversely related to the regularization parameter λ."
      ]
    },
    {
      "cell_type": "markdown",
      "metadata": {
        "id": "7U6-TmN_MQTm"
      },
      "source": [
        "**Task**: Run the code below to explore how the `C` parameter\n",
        "of a `LogisticRegression` affects the training error, validation error,\n",
        "and variance."
      ]
    },
    {
      "cell_type": "code",
      "execution_count": 23,
      "metadata": {
        "id": "LP4cZJ2IMQTm"
      },
      "outputs": [],
      "source": [
        "cs_res = []\n",
        "cs = np.arange(-5, 2, 0.2)\n",
        "\n",
        "for c_exp in cs:\n",
        "    model = LogisticRegression(random_state=0, penalty='l2', C=10**(c_exp))\n",
        "    train_error, val_error, variance = estimate_variance(model)\n",
        "    cs_res.append([train_error, val_error, variance])"
      ]
    },
    {
      "cell_type": "code",
      "execution_count": 25,
      "metadata": {
        "colab": {
          "base_uri": "https://localhost:8080/",
          "height": 472
        },
        "id": "WuQxeBxVMQTm",
        "outputId": "3636f612-a425-40b0-ac89-be186e6dd0b3"
      },
      "outputs": [
        {
          "output_type": "display_data",
          "data": {
            "text/plain": [
              "<Figure size 640x480 with 1 Axes>"
            ],
            "image/png": "[encoded data removed]"
          },
          "metadata": {}
        }
      ],
      "source": [
        "plt.title(\"Logistic Regression\")\n",
        "plt.plot(cs, [r[0] for r in cs_res], label=\"train error\")\n",
        "plt.plot(cs, [r[1] for r in cs_res], label=\"val error\")\n",
        "plt.plot(cs, [r[2] for r in cs_res], label=\"variance\")\n",
        "plt.ylabel(\"error\")\n",
        "plt.xlabel(\"log_10 C\")\n",
        "plt.legend()\n",
        "plt.show()"
      ]
    },
    {
      "cell_type": "markdown",
      "metadata": {
        "id": "_-Mu-KX0MQTm"
      },
      "source": [
        "**Task**: How does the `C` parameter affect the training error, validation error,\n",
        "and variance of the trained model?"
      ]
    },
    {
      "cell_type": "code",
      "execution_count": null,
      "metadata": {
        "id": "ivhcL0YuMQTm"
      },
      "outputs": [],
      "source": [
        "# As C increases, training error decreases since weaker regularization allows the model to fit the data more closely. Validation error initially decreases but later increases due to overfitting.\n",
        "# Variance is low for small C (strong regularization) but rises as C grows, making the model more sensitive to data fluctuations.\n",
        "# Small C leads to underfitting (high bias, low variance), while large C causes overfitting (low bias, high variance)."
      ]
    },
    {
      "cell_type": "markdown",
      "metadata": {
        "id": "gIQWtfkWMQTm"
      },
      "source": [
        "**Task**: Run the code below, which explores how the number of hidden units\n",
        "in a 2-layer neural network affects training error, validation error,\n",
        "and variance.\n",
        "(You might get some `Stochastic Optimizer` errors saying that the optimization\n",
        "have not converged. Please ignore those.\n",
        "We are also reducing `ntries` so this code runs faster.)"
      ]
    },
    {
      "cell_type": "code",
      "execution_count": 26,
      "metadata": {
        "colab": {
          "base_uri": "https://localhost:8080/"
        },
        "id": "e9QuOdSuMQTm",
        "outputId": "fcb9941e-0454-4c59-e2e8-9af88de30de6"
      },
      "outputs": [
        {
          "output_type": "stream",
          "name": "stderr",
          "text": [
            "/usr/local/lib/python3.11/dist-packages/sklearn/neural_network/_multilayer_perceptron.py:691: ConvergenceWarning: Stochastic Optimizer: Maximum iterations (200) reached and the optimization hasn't converged yet.\n",
            "  warnings.warn(\n",
            "/usr/local/lib/python3.11/dist-packages/sklearn/neural_network/_multilayer_perceptron.py:691: ConvergenceWarning: Stochastic Optimizer: Maximum iterations (200) reached and the optimization hasn't converged yet.\n",
            "  warnings.warn(\n",
            "/usr/local/lib/python3.11/dist-packages/sklearn/neural_network/_multilayer_perceptron.py:691: ConvergenceWarning: Stochastic Optimizer: Maximum iterations (200) reached and the optimization hasn't converged yet.\n",
            "  warnings.warn(\n",
            "/usr/local/lib/python3.11/dist-packages/sklearn/neural_network/_multilayer_perceptron.py:691: ConvergenceWarning: Stochastic Optimizer: Maximum iterations (200) reached and the optimization hasn't converged yet.\n",
            "  warnings.warn(\n",
            "/usr/local/lib/python3.11/dist-packages/sklearn/neural_network/_multilayer_perceptron.py:691: ConvergenceWarning: Stochastic Optimizer: Maximum iterations (200) reached and the optimization hasn't converged yet.\n",
            "  warnings.warn(\n",
            "/usr/local/lib/python3.11/dist-packages/sklearn/neural_network/_multilayer_perceptron.py:691: ConvergenceWarning: Stochastic Optimizer: Maximum iterations (200) reached and the optimization hasn't converged yet.\n",
            "  warnings.warn(\n",
            "/usr/local/lib/python3.11/dist-packages/sklearn/neural_network/_multilayer_perceptron.py:691: ConvergenceWarning: Stochastic Optimizer: Maximum iterations (200) reached and the optimization hasn't converged yet.\n",
            "  warnings.warn(\n",
            "/usr/local/lib/python3.11/dist-packages/sklearn/neural_network/_multilayer_perceptron.py:691: ConvergenceWarning: Stochastic Optimizer: Maximum iterations (200) reached and the optimization hasn't converged yet.\n",
            "  warnings.warn(\n",
            "/usr/local/lib/python3.11/dist-packages/sklearn/neural_network/_multilayer_perceptron.py:691: ConvergenceWarning: Stochastic Optimizer: Maximum iterations (200) reached and the optimization hasn't converged yet.\n",
            "  warnings.warn(\n",
            "/usr/local/lib/python3.11/dist-packages/sklearn/neural_network/_multilayer_perceptron.py:691: ConvergenceWarning: Stochastic Optimizer: Maximum iterations (200) reached and the optimization hasn't converged yet.\n",
            "  warnings.warn(\n",
            "/usr/local/lib/python3.11/dist-packages/sklearn/neural_network/_multilayer_perceptron.py:691: ConvergenceWarning: Stochastic Optimizer: Maximum iterations (200) reached and the optimization hasn't converged yet.\n",
            "  warnings.warn(\n",
            "/usr/local/lib/python3.11/dist-packages/sklearn/neural_network/_multilayer_perceptron.py:691: ConvergenceWarning: Stochastic Optimizer: Maximum iterations (200) reached and the optimization hasn't converged yet.\n",
            "  warnings.warn(\n",
            "/usr/local/lib/python3.11/dist-packages/sklearn/neural_network/_multilayer_perceptron.py:691: ConvergenceWarning: Stochastic Optimizer: Maximum iterations (200) reached and the optimization hasn't converged yet.\n",
            "  warnings.warn(\n",
            "/usr/local/lib/python3.11/dist-packages/sklearn/neural_network/_multilayer_perceptron.py:691: ConvergenceWarning: Stochastic Optimizer: Maximum iterations (200) reached and the optimization hasn't converged yet.\n",
            "  warnings.warn(\n",
            "/usr/local/lib/python3.11/dist-packages/sklearn/neural_network/_multilayer_perceptron.py:691: ConvergenceWarning: Stochastic Optimizer: Maximum iterations (200) reached and the optimization hasn't converged yet.\n",
            "  warnings.warn(\n",
            "/usr/local/lib/python3.11/dist-packages/sklearn/neural_network/_multilayer_perceptron.py:691: ConvergenceWarning: Stochastic Optimizer: Maximum iterations (200) reached and the optimization hasn't converged yet.\n",
            "  warnings.warn(\n",
            "/usr/local/lib/python3.11/dist-packages/sklearn/neural_network/_multilayer_perceptron.py:691: ConvergenceWarning: Stochastic Optimizer: Maximum iterations (200) reached and the optimization hasn't converged yet.\n",
            "  warnings.warn(\n",
            "/usr/local/lib/python3.11/dist-packages/sklearn/neural_network/_multilayer_perceptron.py:691: ConvergenceWarning: Stochastic Optimizer: Maximum iterations (200) reached and the optimization hasn't converged yet.\n",
            "  warnings.warn(\n",
            "/usr/local/lib/python3.11/dist-packages/sklearn/neural_network/_multilayer_perceptron.py:691: ConvergenceWarning: Stochastic Optimizer: Maximum iterations (200) reached and the optimization hasn't converged yet.\n",
            "  warnings.warn(\n",
            "/usr/local/lib/python3.11/dist-packages/sklearn/neural_network/_multilayer_perceptron.py:691: ConvergenceWarning: Stochastic Optimizer: Maximum iterations (200) reached and the optimization hasn't converged yet.\n",
            "  warnings.warn(\n",
            "/usr/local/lib/python3.11/dist-packages/sklearn/neural_network/_multilayer_perceptron.py:691: ConvergenceWarning: Stochastic Optimizer: Maximum iterations (200) reached and the optimization hasn't converged yet.\n",
            "  warnings.warn(\n",
            "/usr/local/lib/python3.11/dist-packages/sklearn/neural_network/_multilayer_perceptron.py:691: ConvergenceWarning: Stochastic Optimizer: Maximum iterations (200) reached and the optimization hasn't converged yet.\n",
            "  warnings.warn(\n",
            "/usr/local/lib/python3.11/dist-packages/sklearn/neural_network/_multilayer_perceptron.py:691: ConvergenceWarning: Stochastic Optimizer: Maximum iterations (200) reached and the optimization hasn't converged yet.\n",
            "  warnings.warn(\n",
            "/usr/local/lib/python3.11/dist-packages/sklearn/neural_network/_multilayer_perceptron.py:691: ConvergenceWarning: Stochastic Optimizer: Maximum iterations (200) reached and the optimization hasn't converged yet.\n",
            "  warnings.warn(\n",
            "/usr/local/lib/python3.11/dist-packages/sklearn/neural_network/_multilayer_perceptron.py:691: ConvergenceWarning: Stochastic Optimizer: Maximum iterations (200) reached and the optimization hasn't converged yet.\n",
            "  warnings.warn(\n",
            "/usr/local/lib/python3.11/dist-packages/sklearn/neural_network/_multilayer_perceptron.py:691: ConvergenceWarning: Stochastic Optimizer: Maximum iterations (200) reached and the optimization hasn't converged yet.\n",
            "  warnings.warn(\n",
            "/usr/local/lib/python3.11/dist-packages/sklearn/neural_network/_multilayer_perceptron.py:691: ConvergenceWarning: Stochastic Optimizer: Maximum iterations (200) reached and the optimization hasn't converged yet.\n",
            "  warnings.warn(\n",
            "/usr/local/lib/python3.11/dist-packages/sklearn/neural_network/_multilayer_perceptron.py:691: ConvergenceWarning: Stochastic Optimizer: Maximum iterations (200) reached and the optimization hasn't converged yet.\n",
            "  warnings.warn(\n",
            "/usr/local/lib/python3.11/dist-packages/sklearn/neural_network/_multilayer_perceptron.py:691: ConvergenceWarning: Stochastic Optimizer: Maximum iterations (200) reached and the optimization hasn't converged yet.\n",
            "  warnings.warn(\n",
            "/usr/local/lib/python3.11/dist-packages/sklearn/neural_network/_multilayer_perceptron.py:691: ConvergenceWarning: Stochastic Optimizer: Maximum iterations (200) reached and the optimization hasn't converged yet.\n",
            "  warnings.warn(\n",
            "/usr/local/lib/python3.11/dist-packages/sklearn/neural_network/_multilayer_perceptron.py:691: ConvergenceWarning: Stochastic Optimizer: Maximum iterations (200) reached and the optimization hasn't converged yet.\n",
            "  warnings.warn(\n",
            "/usr/local/lib/python3.11/dist-packages/sklearn/neural_network/_multilayer_perceptron.py:691: ConvergenceWarning: Stochastic Optimizer: Maximum iterations (200) reached and the optimization hasn't converged yet.\n",
            "  warnings.warn(\n",
            "/usr/local/lib/python3.11/dist-packages/sklearn/neural_network/_multilayer_perceptron.py:691: ConvergenceWarning: Stochastic Optimizer: Maximum iterations (200) reached and the optimization hasn't converged yet.\n",
            "  warnings.warn(\n",
            "/usr/local/lib/python3.11/dist-packages/sklearn/neural_network/_multilayer_perceptron.py:691: ConvergenceWarning: Stochastic Optimizer: Maximum iterations (200) reached and the optimization hasn't converged yet.\n",
            "  warnings.warn(\n",
            "/usr/local/lib/python3.11/dist-packages/sklearn/neural_network/_multilayer_perceptron.py:691: ConvergenceWarning: Stochastic Optimizer: Maximum iterations (200) reached and the optimization hasn't converged yet.\n",
            "  warnings.warn(\n",
            "/usr/local/lib/python3.11/dist-packages/sklearn/neural_network/_multilayer_perceptron.py:691: ConvergenceWarning: Stochastic Optimizer: Maximum iterations (200) reached and the optimization hasn't converged yet.\n",
            "  warnings.warn(\n",
            "/usr/local/lib/python3.11/dist-packages/sklearn/neural_network/_multilayer_perceptron.py:691: ConvergenceWarning: Stochastic Optimizer: Maximum iterations (200) reached and the optimization hasn't converged yet.\n",
            "  warnings.warn(\n",
            "/usr/local/lib/python3.11/dist-packages/sklearn/neural_network/_multilayer_perceptron.py:691: ConvergenceWarning: Stochastic Optimizer: Maximum iterations (200) reached and the optimization hasn't converged yet.\n",
            "  warnings.warn(\n",
            "/usr/local/lib/python3.11/dist-packages/sklearn/neural_network/_multilayer_perceptron.py:691: ConvergenceWarning: Stochastic Optimizer: Maximum iterations (200) reached and the optimization hasn't converged yet.\n",
            "  warnings.warn(\n",
            "/usr/local/lib/python3.11/dist-packages/sklearn/neural_network/_multilayer_perceptron.py:691: ConvergenceWarning: Stochastic Optimizer: Maximum iterations (200) reached and the optimization hasn't converged yet.\n",
            "  warnings.warn(\n",
            "/usr/local/lib/python3.11/dist-packages/sklearn/neural_network/_multilayer_perceptron.py:691: ConvergenceWarning: Stochastic Optimizer: Maximum iterations (200) reached and the optimization hasn't converged yet.\n",
            "  warnings.warn(\n",
            "/usr/local/lib/python3.11/dist-packages/sklearn/neural_network/_multilayer_perceptron.py:691: ConvergenceWarning: Stochastic Optimizer: Maximum iterations (200) reached and the optimization hasn't converged yet.\n",
            "  warnings.warn(\n",
            "/usr/local/lib/python3.11/dist-packages/sklearn/neural_network/_multilayer_perceptron.py:691: ConvergenceWarning: Stochastic Optimizer: Maximum iterations (200) reached and the optimization hasn't converged yet.\n",
            "  warnings.warn(\n",
            "/usr/local/lib/python3.11/dist-packages/sklearn/neural_network/_multilayer_perceptron.py:691: ConvergenceWarning: Stochastic Optimizer: Maximum iterations (200) reached and the optimization hasn't converged yet.\n",
            "  warnings.warn(\n",
            "/usr/local/lib/python3.11/dist-packages/sklearn/neural_network/_multilayer_perceptron.py:691: ConvergenceWarning: Stochastic Optimizer: Maximum iterations (200) reached and the optimization hasn't converged yet.\n",
            "  warnings.warn(\n",
            "/usr/local/lib/python3.11/dist-packages/sklearn/neural_network/_multilayer_perceptron.py:691: ConvergenceWarning: Stochastic Optimizer: Maximum iterations (200) reached and the optimization hasn't converged yet.\n",
            "  warnings.warn(\n",
            "/usr/local/lib/python3.11/dist-packages/sklearn/neural_network/_multilayer_perceptron.py:691: ConvergenceWarning: Stochastic Optimizer: Maximum iterations (200) reached and the optimization hasn't converged yet.\n",
            "  warnings.warn(\n",
            "/usr/local/lib/python3.11/dist-packages/sklearn/neural_network/_multilayer_perceptron.py:691: ConvergenceWarning: Stochastic Optimizer: Maximum iterations (200) reached and the optimization hasn't converged yet.\n",
            "  warnings.warn(\n",
            "/usr/local/lib/python3.11/dist-packages/sklearn/neural_network/_multilayer_perceptron.py:691: ConvergenceWarning: Stochastic Optimizer: Maximum iterations (200) reached and the optimization hasn't converged yet.\n",
            "  warnings.warn(\n",
            "/usr/local/lib/python3.11/dist-packages/sklearn/neural_network/_multilayer_perceptron.py:691: ConvergenceWarning: Stochastic Optimizer: Maximum iterations (200) reached and the optimization hasn't converged yet.\n",
            "  warnings.warn(\n",
            "/usr/local/lib/python3.11/dist-packages/sklearn/neural_network/_multilayer_perceptron.py:691: ConvergenceWarning: Stochastic Optimizer: Maximum iterations (200) reached and the optimization hasn't converged yet.\n",
            "  warnings.warn(\n",
            "/usr/local/lib/python3.11/dist-packages/sklearn/neural_network/_multilayer_perceptron.py:691: ConvergenceWarning: Stochastic Optimizer: Maximum iterations (200) reached and the optimization hasn't converged yet.\n",
            "  warnings.warn(\n",
            "/usr/local/lib/python3.11/dist-packages/sklearn/neural_network/_multilayer_perceptron.py:691: ConvergenceWarning: Stochastic Optimizer: Maximum iterations (200) reached and the optimization hasn't converged yet.\n",
            "  warnings.warn(\n",
            "/usr/local/lib/python3.11/dist-packages/sklearn/neural_network/_multilayer_perceptron.py:691: ConvergenceWarning: Stochastic Optimizer: Maximum iterations (200) reached and the optimization hasn't converged yet.\n",
            "  warnings.warn(\n",
            "/usr/local/lib/python3.11/dist-packages/sklearn/neural_network/_multilayer_perceptron.py:691: ConvergenceWarning: Stochastic Optimizer: Maximum iterations (200) reached and the optimization hasn't converged yet.\n",
            "  warnings.warn(\n",
            "/usr/local/lib/python3.11/dist-packages/sklearn/neural_network/_multilayer_perceptron.py:691: ConvergenceWarning: Stochastic Optimizer: Maximum iterations (200) reached and the optimization hasn't converged yet.\n",
            "  warnings.warn(\n",
            "/usr/local/lib/python3.11/dist-packages/sklearn/neural_network/_multilayer_perceptron.py:691: ConvergenceWarning: Stochastic Optimizer: Maximum iterations (200) reached and the optimization hasn't converged yet.\n",
            "  warnings.warn(\n",
            "/usr/local/lib/python3.11/dist-packages/sklearn/neural_network/_multilayer_perceptron.py:691: ConvergenceWarning: Stochastic Optimizer: Maximum iterations (200) reached and the optimization hasn't converged yet.\n",
            "  warnings.warn(\n",
            "/usr/local/lib/python3.11/dist-packages/sklearn/neural_network/_multilayer_perceptron.py:691: ConvergenceWarning: Stochastic Optimizer: Maximum iterations (200) reached and the optimization hasn't converged yet.\n",
            "  warnings.warn(\n",
            "/usr/local/lib/python3.11/dist-packages/sklearn/neural_network/_multilayer_perceptron.py:691: ConvergenceWarning: Stochastic Optimizer: Maximum iterations (200) reached and the optimization hasn't converged yet.\n",
            "  warnings.warn(\n",
            "/usr/local/lib/python3.11/dist-packages/sklearn/neural_network/_multilayer_perceptron.py:691: ConvergenceWarning: Stochastic Optimizer: Maximum iterations (200) reached and the optimization hasn't converged yet.\n",
            "  warnings.warn(\n",
            "/usr/local/lib/python3.11/dist-packages/sklearn/neural_network/_multilayer_perceptron.py:691: ConvergenceWarning: Stochastic Optimizer: Maximum iterations (200) reached and the optimization hasn't converged yet.\n",
            "  warnings.warn(\n",
            "/usr/local/lib/python3.11/dist-packages/sklearn/neural_network/_multilayer_perceptron.py:691: ConvergenceWarning: Stochastic Optimizer: Maximum iterations (200) reached and the optimization hasn't converged yet.\n",
            "  warnings.warn(\n",
            "/usr/local/lib/python3.11/dist-packages/sklearn/neural_network/_multilayer_perceptron.py:691: ConvergenceWarning: Stochastic Optimizer: Maximum iterations (200) reached and the optimization hasn't converged yet.\n",
            "  warnings.warn(\n",
            "/usr/local/lib/python3.11/dist-packages/sklearn/neural_network/_multilayer_perceptron.py:691: ConvergenceWarning: Stochastic Optimizer: Maximum iterations (200) reached and the optimization hasn't converged yet.\n",
            "  warnings.warn(\n"
          ]
        }
      ],
      "source": [
        "mlp_res = []\n",
        "hidden_sizes = range(1, 21)\n",
        "\n",
        "for h in hidden_sizes:\n",
        "    model = MLPClassifier(alpha=0,                 # set regularization parameter to 0\n",
        "                          hidden_layer_sizes=(h,), # use only 1 hidden layer with h units\n",
        "                          learning_rate_init=0.1,  # increase LR from the default\n",
        "                          max_iter=200)\n",
        "    train_error, val_error, variance = estimate_variance(model, ntries=10)\n",
        "    mlp_res.append([train_error, val_error, variance])"
      ]
    },
    {
      "cell_type": "code",
      "execution_count": 27,
      "metadata": {
        "colab": {
          "base_uri": "https://localhost:8080/",
          "height": 472
        },
        "id": "lcmegGENMQTm",
        "outputId": "acc4c2bd-6de8-462c-9ef8-76e8acc684ac"
      },
      "outputs": [
        {
          "output_type": "display_data",
          "data": {
            "text/plain": [
              "<Figure size 640x480 with 1 Axes>"
            ],
            "image/png": "[encoded data removed]"
          },
          "metadata": {}
        }
      ],
      "source": [
        "plt.title(\"Multi-Layer Perceptron\")\n",
        "plt.plot(hidden_sizes, [r[0] for r in mlp_res], label=\"train error\")\n",
        "plt.plot(hidden_sizes, [r[1] for r in mlp_res], label=\"val error\")\n",
        "plt.plot(hidden_sizes, [r[2] for r in mlp_res], label=\"variance\")\n",
        "plt.ylabel(\"error\")\n",
        "plt.xlabel(\"hidden size\")\n",
        "plt.legend()\n",
        "plt.show()"
      ]
    },
    {
      "cell_type": "markdown",
      "metadata": {
        "id": "kNH-VDKvMQTm"
      },
      "source": [
        "**Task**: How does the number of units in the hidden size affect the\n",
        "training error, validation error, and variance of the trained model?"
      ]
    },
    {
      "cell_type": "code",
      "execution_count": null,
      "metadata": {
        "id": "ymUjGR-1MQTm"
      },
      "outputs": [],
      "source": [
        "# TODO"
      ]
    },
    {
      "cell_type": "markdown",
      "metadata": {
        "id": "nA4ov3C2MQTm"
      },
      "source": [
        "**Task**: Run the code below to explore how the `max_depth` parameter\n",
        "of a `DecisionTreeClassifier` affects the training error, validation error,\n",
        "and variance."
      ]
    },
    {
      "cell_type": "code",
      "execution_count": 28,
      "metadata": {
        "id": "oZRJxOMrMQTm"
      },
      "outputs": [],
      "source": [
        "tree_res = []\n",
        "depths = list(range(1,21))\n",
        "for max_depth in depths:\n",
        "    model = DecisionTreeClassifier(random_state=0, max_depth=max_depth)\n",
        "    train_error, val_error, variance = estimate_variance(model)\n",
        "    tree_res.append([train_error, val_error, variance])"
      ]
    },
    {
      "cell_type": "code",
      "execution_count": 29,
      "metadata": {
        "colab": {
          "base_uri": "https://localhost:8080/",
          "height": 472
        },
        "id": "83cXwxYTMQTm",
        "outputId": "bcf1cec2-4046-46cc-94ed-f2fd7e5f4173"
      },
      "outputs": [
        {
          "output_type": "display_data",
          "data": {
            "text/plain": [
              "<Figure size 640x480 with 1 Axes>"
            ],
            "image/png": "[encoded data removed]"
          },
          "metadata": {}
        }
      ],
      "source": [
        "plt.title(\"Decision Tree\")\n",
        "plt.plot(depths, [r[0] for r in tree_res], label=\"train error\")\n",
        "plt.plot(depths, [r[1] for r in tree_res], label=\"val error\")\n",
        "plt.plot(depths, [r[2] for r in tree_res], label=\"variance\")\n",
        "plt.ylabel(\"error\")\n",
        "plt.xlabel(\"max_depth\")\n",
        "plt.legend()\n",
        "plt.show()"
      ]
    },
    {
      "cell_type": "markdown",
      "metadata": {
        "id": "9s_32bw-MQTm"
      },
      "source": [
        "**Task**: How does the `max_depth` parameter affect the training error, validation error,\n",
        "and variance of the trained model?"
      ]
    },
    {
      "cell_type": "code",
      "execution_count": null,
      "metadata": {
        "id": "HnGOmx1FMQTm"
      },
      "outputs": [],
      "source": [
        "# TODO"
      ]
    },
    {
      "cell_type": "markdown",
      "metadata": {
        "id": "8ITxR8EXMQTm"
      },
      "source": [
        "We saw in lab 2 that hyperparameters interact with each other in\n",
        "unpredictable ways (e.g., max depth, min split, and the split criteria\n",
        "for a decision tree classifier). The analysis we conduct in this\n",
        "lab focuses on a single hyperparameter at a time, but keep in\n",
        "mind that a **grid search** is required to properly tune sets of\n",
        "hyperparameters.\n",
        "\n",
        "## Part 3. Ensemble Methods\n",
        "\n",
        "During lecture 6, we introduced the idea of **ensemble methods**,\n",
        "where we average together the predictions of many models instead\n",
        "of using a single model.\n",
        "In this section, we will analyze the impact of model averaging,\n",
        "and explore the `RandomForest` classifier.\n",
        "\n",
        "**Graded Task**: Complete the function below, which is a modification\n",
        "of the `estimate_variance` function, that computes the"
      ]
    },
    {
      "cell_type": "code",
      "execution_count": 30,
      "metadata": {
        "id": "ByCf__D4MQTm"
      },
      "outputs": [],
      "source": [
        "def model_averaging(model, ntries=100, nsample=200):\n",
        "    \"\"\"\n",
        "    Fits model a number of times on a subset of the NHANES data\n",
        "    set, and returns the average validation error of the\n",
        "    individual models, along with the validation error of the\n",
        "    average prediction of the models.\n",
        "\n",
        "    Parameters:\n",
        "        `model` - an sklearn model supporting the methods fit(),\n",
        "                  predict(), and score()\n",
        "        `ntries` - number of times to train the classifier\n",
        "        `nsamples` - number of data points to sample to train each\n",
        "                     classifier\n",
        "\n",
        "    Returns: A tuple containing the average validation error\n",
        "             across the individual models, and the validation\n",
        "             error of the average prediction of the models.\n",
        "    \"\"\"\n",
        "\n",
        "    train_acc = []\n",
        "    val_acc = []\n",
        "    ys = []\n",
        "    for i in range(ntries):\n",
        "        subset = random.sample(range(5000), nsample)\n",
        "        model.fit(X_train_norm[subset], t_train[subset])\n",
        "        ys.append(model.predict(X_valid_norm))\n",
        "        train_acc.append(model.score(X_train_norm[subset], t_train[subset]))\n",
        "        val_acc.append(model.score(X_valid_norm, t_valid))\n",
        "    ys = np.stack(ys)\n",
        "\n",
        "    # compute the average validation error across the individual models\n",
        "    avg_val_error = 1 - np.mean(val_acc)\n",
        "\n",
        "    # compute the average prediction across all models, and convert\n",
        "    # into a discrete prediction (0 or 1 for each data point in the\n",
        "    # validation set)\n",
        "    ys_average = np.round(np.mean(ys, axis=0))\n",
        "\n",
        "    # compute the validation error using ys_average and t_valid\n",
        "    ensemble_val_error  = 1 - np.mean(ys_average == t_valid)\n",
        "\n",
        "    return avg_val_error, ensemble_val_error"
      ]
    },
    {
      "cell_type": "markdown",
      "metadata": {
        "id": "myfaRFnlMQTm"
      },
      "source": [
        "**Task**: Run the code below, which uses the function we wrote to\n",
        "analyze how model averaging affects the validation error."
      ]
    },
    {
      "cell_type": "code",
      "execution_count": 31,
      "metadata": {
        "colab": {
          "base_uri": "https://localhost:8080/"
        },
        "id": "9i11BvGUMQTn",
        "outputId": "9e9b2606-05c8-42e6-9ad1-c65c9f969924"
      },
      "outputs": [
        {
          "output_type": "stream",
          "name": "stdout",
          "text": [
            "====== Logistic Regression Models ======\n",
            "C=10**-5.0 0.48827999999999994 0.502\n",
            "C=10**-4.8 0.49206000000000005 0.502\n",
            "C=10**-4.6 0.49220666666666657 0.502\n",
            "C=10**-4.3999999999999995 0.48478 0.502\n",
            "C=10**-4.199999999999999 0.4878 0.502\n",
            "C=10**-3.999999999999999 0.4899800000000001 0.502\n",
            "C=10**-3.799999999999999 0.49358666666666673 0.502\n",
            "C=10**-3.5999999999999988 0.4853466666666667 0.5013333333333334\n",
            "C=10**-3.3999999999999986 0.4739266666666667 0.2793333333333333\n",
            "C=10**-3.1999999999999984 0.46786666666666665 0.3406666666666667\n",
            "C=10**-2.9999999999999982 0.4384066666666667 0.2846666666666666\n",
            "C=10**-2.799999999999998 0.39917333333333327 0.2813333333333333\n",
            "C=10**-2.599999999999998 0.3760333333333332 0.29066666666666663\n",
            "C=10**-2.3999999999999977 0.3459266666666666 0.2886666666666666\n",
            "C=10**-2.1999999999999975 0.32700000000000007 0.2866666666666666\n",
            "C=10**-1.9999999999999973 0.31090666666666666 0.2826666666666666\n",
            "C=10**-1.7999999999999972 0.30446666666666655 0.28\n",
            "C=10**-1.599999999999997 0.29654000000000014 0.2786666666666666\n",
            "C=10**-1.3999999999999968 0.29122000000000003 0.2806666666666666\n",
            "C=10**-1.1999999999999966 0.28832666666666673 0.276\n",
            "C=10**-0.9999999999999964 0.28866666666666674 0.2766666666666666\n",
            "C=10**-0.7999999999999963 0.28826666666666656 0.278\n",
            "C=10**-0.5999999999999961 0.28425999999999985 0.278\n",
            "C=10**-0.3999999999999959 0.2873933333333335 0.2826666666666666\n",
            "C=10**-0.19999999999999574 0.28656000000000004 0.2673333333333333\n",
            "C=10**4.440892098500626e-15 0.28549333333333327 0.2686666666666667\n",
            "C=10**0.20000000000000462 0.28532 0.2646666666666667\n",
            "C=10**0.4000000000000048 0.28916666666666657 0.27\n",
            "C=10**0.600000000000005 0.28847333333333336 0.272\n",
            "C=10**0.8000000000000052 0.2878799999999999 0.2646666666666667\n",
            "C=10**1.0000000000000053 0.2900466666666669 0.26\n",
            "C=10**1.2000000000000055 0.28718 0.2686666666666667\n",
            "C=10**1.4000000000000057 0.2882600000000002 0.2746666666666666\n",
            "C=10**1.6000000000000059 0.28876 0.2673333333333333\n",
            "C=10**1.800000000000006 0.2899333333333334 0.268\n"
          ]
        }
      ],
      "source": [
        "print(\"====== Logistic Regression Models ======\")\n",
        "cs = np.arange(-5, 2, 0.2)\n",
        "for c_exp in cs:\n",
        "    model = LogisticRegression(random_state=0, penalty='l2', C=10**(c_exp))\n",
        "    avg_val_error, ensemble_val_error = model_averaging(model)\n",
        "    print(f\"C=10**{c_exp}\", avg_val_error, ensemble_val_error)"
      ]
    },
    {
      "cell_type": "code",
      "execution_count": 32,
      "metadata": {
        "colab": {
          "base_uri": "https://localhost:8080/"
        },
        "id": "JVTzzqB3MQTn",
        "outputId": "21ff8402-f28b-4315-ed73-7831a0c3d800"
      },
      "outputs": [
        {
          "output_type": "stream",
          "name": "stdout",
          "text": [
            "====== Decision Trees ======\n",
            "max_depth=1 0.33076666666666654 0.29400000000000004\n",
            "max_depth=2 0.32279999999999986 0.2713333333333333\n",
            "max_depth=3 0.3345866666666667 0.2613333333333333\n",
            "max_depth=4 0.3266133333333333 0.246\n",
            "max_depth=5 0.34041333333333346 0.2453333333333333\n",
            "max_depth=6 0.3327266666666666 0.21399999999999997\n",
            "max_depth=7 0.3385600000000001 0.21466666666666667\n",
            "max_depth=8 0.3393599999999999 0.21666666666666667\n",
            "max_depth=9 0.33958 0.21199999999999997\n",
            "max_depth=10 0.3398066666666666 0.19466666666666665\n",
            "max_depth=11 0.33719333333333334 0.19666666666666666\n",
            "max_depth=12 0.3355600000000001 0.19133333333333336\n",
            "max_depth=13 0.3333800000000001 0.18400000000000005\n",
            "max_depth=14 0.33620000000000005 0.19133333333333336\n",
            "max_depth=15 0.33395333333333344 0.20066666666666666\n",
            "max_depth=16 0.33506666666666685 0.20066666666666666\n",
            "max_depth=17 0.33908666666666676 0.18266666666666664\n",
            "max_depth=18 0.33743999999999996 0.19599999999999995\n",
            "max_depth=19 0.3372933333333331 0.20199999999999996\n",
            "max_depth=20 0.33663333333333323 0.18200000000000005\n"
          ]
        }
      ],
      "source": [
        "print(\"====== Decision Trees ======\")\n",
        "depths = list(range(1,21))\n",
        "for max_depth in depths:\n",
        "    model = DecisionTreeClassifier(random_state=0, max_depth=max_depth)\n",
        "    avg_val_error, ensemble_val_error = model_averaging(model)\n",
        "    print(f\"max_depth={max_depth}\", avg_val_error, ensemble_val_error)"
      ]
    },
    {
      "cell_type": "code",
      "execution_count": null,
      "metadata": {
        "id": "ZbAAPmAYMQTn"
      },
      "outputs": [],
      "source": [
        "# The MLP code is also included. You can optionally uncomment\n",
        "# and run this code for your interest. However, these models tend to be more\n",
        "# expensive to train, and are less often used in an ensemble.\n",
        "\n",
        "# print(\"====== MultiLayer Perceptrons  ======\")\n",
        "# hidden_sizes = range(1, 21)\n",
        "# for h in hidden_sizes:\n",
        "#     model = MLPClassifier(alpha=0,  # regularization parameter\n",
        "#                           hidden_layer_sizes=(h,),\n",
        "#                           learning_rate_init=0.01,\n",
        "#                           max_iter=200)\n",
        "#     avg_val_error, ensemble_val_error = model_averaging(model, ntries=10)\n",
        "#     print(f\"hidden_size={h}\", avg_val_error, ensemble_val_error)"
      ]
    },
    {
      "cell_type": "markdown",
      "metadata": {
        "id": "bWGP_PcaMQTn"
      },
      "source": [
        "**Task**: Analyze the pattern above.\n",
        "You should see that ensemble models tend to\n",
        "perform better or the individual models.\n",
        "Discuss the patterns you see as to which models tend to achieve\n",
        "lower validation error in an ensemble,\n",
        "and the amount of variance and total error that these models tend\n",
        "to have (from the previous results)."
      ]
    },
    {
      "cell_type": "code",
      "execution_count": null,
      "metadata": {
        "id": "zYQscBm_MQTn"
      },
      "outputs": [],
      "source": [
        "# TODO"
      ]
    },
    {
      "cell_type": "markdown",
      "metadata": {
        "id": "hVi10fXlMQTn"
      },
      "source": [
        "You should see that decision trees perform quite well as an ensemble.\n",
        "We discussed during lecture that individual trees are rarely used\n",
        "in practice, but that an ensemble of trees tend to work well with little\n",
        "tuning. Let's now explore the `RandomForestClassifier`, which trains\n",
        "an ensemble of trees, with some additional randomness baked into\n",
        "the model to make the predictions less correlated.\n",
        "\n",
        "\n",
        "**Task**: Run the below code, which explores how the number of\n",
        "individual trees in a random forest classifier affects the\n",
        "training error, validation error, and variance."
      ]
    },
    {
      "cell_type": "code",
      "execution_count": 33,
      "metadata": {
        "id": "jzdlbiQpMQTn"
      },
      "outputs": [],
      "source": [
        "from sklearn.ensemble import RandomForestClassifier\n",
        "\n",
        "forest_res = []\n",
        "num_trees = [1, 2, 5, 10, 25, 50]\n",
        "for n in num_trees:\n",
        "    model = RandomForestClassifier(n_estimators=n)\n",
        "    train_error, val_error, variance = estimate_variance(model, ntries=10, nsample=1000)\n",
        "    forest_res.append([train_error, val_error, variance])"
      ]
    },
    {
      "cell_type": "code",
      "execution_count": 34,
      "metadata": {
        "colab": {
          "base_uri": "https://localhost:8080/",
          "height": 472
        },
        "id": "D14fMlE9MQTn",
        "outputId": "d935316a-82e4-459a-a5c8-cc06f37cf9ee"
      },
      "outputs": [
        {
          "output_type": "display_data",
          "data": {
            "text/plain": [
              "<Figure size 640x480 with 1 Axes>"
            ],
            "image/png": "[encoded data removed]"
          },
          "metadata": {}
        }
      ],
      "source": [
        "plt.title(\"Random Forest\")\n",
        "plt.plot(num_trees, [r[0] for r in forest_res], label=\"train error\")\n",
        "plt.plot(num_trees, [r[1] for r in forest_res], label=\"val error\")\n",
        "plt.plot(num_trees, [r[2] for r in forest_res], label=\"variance\")\n",
        "plt.ylabel(\"error\")\n",
        "plt.xlabel(\"n_estimators\")\n",
        "plt.legend()\n",
        "plt.show()"
      ]
    },
    {
      "cell_type": "markdown",
      "metadata": {
        "id": "EuENHKkKMQTn"
      },
      "source": [
        "**Graded Task**: How does the number of trees affect the variance\n",
        "of a random forest classifier?"
      ]
    },
    {
      "cell_type": "code",
      "execution_count": null,
      "metadata": {
        "id": "AzVKJDBTMQTn"
      },
      "outputs": [],
      "source": [
        "# As the number of trees increases, the variance of the random forest classifier decreases because aggregating more trees reduces the impact of individual tree variability.\n",
        "# Initially, variance drops significantly, but after a certain number of trees, the reduction becomes minimal, leading to a stable variance."
      ]
    },
    {
      "cell_type": "markdown",
      "metadata": {
        "id": "dbRHGySJMQTn"
      },
      "source": [
        "**Task**: Finally, run the code below, which trains a random forest\n",
        "classifier on the entire training set, and computes the training\n",
        "and validation accuracy."
      ]
    },
    {
      "cell_type": "code",
      "execution_count": 35,
      "metadata": {
        "colab": {
          "base_uri": "https://localhost:8080/"
        },
        "id": "-X3JTlPVMQTn",
        "outputId": "0b918b9a-72b0-44f3-8d40-9502e742f2be"
      },
      "outputs": [
        {
          "output_type": "stream",
          "name": "stdout",
          "text": [
            "Training Accuracy: 1.0\n",
            "Validation Accuracy: 0.988\n"
          ]
        }
      ],
      "source": [
        "model = RandomForestClassifier(n_estimators=50)\n",
        "model.fit(X_train_norm, t_train)\n",
        "print(\"Training Accuracy:\", model.score(X_train_norm, t_train))\n",
        "print(\"Validation Accuracy:\", model.score(X_valid_norm, t_valid))"
      ]
    },
    {
      "cell_type": "markdown",
      "metadata": {
        "id": "Vz5PMYKdMQTn"
      },
      "source": [
        "**Task**: As in the synthetic task, the availability of data can\n",
        "also impact model performance.\n",
        "Explain how changing the amount of training data would affect model\n",
        "performance."
      ]
    },
    {
      "cell_type": "code",
      "execution_count": null,
      "metadata": {
        "id": "eRxeivBmMQTn"
      },
      "outputs": [],
      "source": [
        "# TODO: Explanation of different amounts of training data has on model performance, bias/variance."
      ]
    },
    {
      "cell_type": "markdown",
      "metadata": {
        "id": "zALzd_VUMQTn"
      },
      "source": [
        "In reality, there are many more factors that can affect model performance.\n",
        "Training models, especially in healthcare, can be a difficult process. In\n",
        "this lab you relied on training and validation accuracy as a measure of\n",
        "model performance. But relying on just accuracy as a metric does perfectly\n",
        "reflect if a certain model is useful or appropriate.\n",
        "\n",
        "In healthcare, we care about minimizing errors that are more dangerous to\n",
        "our patients, and de-prioritize errors that have little known adverse effect.\n",
        "Similarly, there can be other factors to take into account when making\n",
        "decisions. A certain decision may algorithmically seem like the most\n",
        "optimal, but we need to take into account a patient's history and\n",
        "personality. Prescribing a certain intervention may not work on certain\n",
        "individuals, or certain patients may not be comfortable with certain\n",
        "decisions regardless of the \"accuracy\".\n",
        "\n",
        "Accuracy as a metric has many shortcomings, and a good reference for further\n",
        "reading can be found [here](https://predictive-optimization.cs.princeton.edu/).\n",
        "It is important in the future to always consider alternative metrics instead of\n",
        "solely relying on accuracy."
      ]
    }
  ],
  "metadata": {
    "colab": {
      "provenance": []
    },
    "language_info": {
      "name": "python"
    },
    "kernelspec": {
      "name": "python3",
      "display_name": "Python 3"
    }
  },
  "nbformat": 4,
  "nbformat_minor": 0
}